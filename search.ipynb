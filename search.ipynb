{
 "cells": [
  {
   "cell_type": "code",
   "execution_count": 1,
   "id": "a1c20070",
   "metadata": {},
   "outputs": [],
   "source": [
    "from autoscraper import AutoScraper\n",
    "import pandas as pd"
   ]
  },
  {
   "cell_type": "code",
   "execution_count": 2,
   "id": "b18bbe92",
   "metadata": {},
   "outputs": [
    {
     "name": "stdout",
     "output_type": "stream",
     "text": [
      "https://www.flipkart.com/search?q=realme\n"
     ]
    }
   ],
   "source": [
    "search = \"realme\"\n",
    "url = \"https://www.flipkart.com/search?q={}\".format(search)\n",
    "print(url)"
   ]
  },
  {
   "cell_type": "code",
   "execution_count": 3,
   "id": "e385c8ad",
   "metadata": {},
   "outputs": [],
   "source": [
    "wanted_list = [\"realme C53 (Champion Gold, 128 GB)\",\n",
    "                \"₹9,999\",\n",
    "                \"₹11,999\",\n",
    "                \"16%% off\",\n",
    "                \"4.1\",\n",
    "                \"1,940 Ratings\",\n",
    "                \"174 Reviews\",\n",
    "                \"4 GB RAM | 128 GB ROM | Expandable Upto 2 TB\",\n",
    "                \"17.12 cm (6.74 inch) HD Display\",\n",
    "                \"108MP + 2MP | 8MP Front Camera\",\n",
    "                \"5000 mAh Battery\",\n",
    "                \"T612 Processor\",\n",
    "                \"1 Year Manufacturer Warranty for Phone and 6 Months Warranty for In the Box Accessories\",\n",
    "                \"https://rukminim2.flixcart.com/image/312/312/xif0q/mobile/h/h/d/-original-imags487gaqqhcea.jpeg?q=70\"\n",
    "                ]"
   ]
  },
  {
   "cell_type": "code",
   "execution_count": 4,
   "id": "5033bde4",
   "metadata": {},
   "outputs": [
    {
     "name": "stdout",
     "output_type": "stream",
     "text": [
      "{'rule_zuna': ['realme C53 (Champion Gold, 64 GB)', 'realme C53 (Champion Gold, 128 GB)', 'realme C53 (Champion Black, 64 GB)', 'realme C53 (Champion Black, 128 GB)', 'realme C55 (Rainforest, 64 GB)', 'realme C55 (Rainforest, 128 GB)', 'realme C55 (Rainforest, 64 GB)', 'realme 10 (Clash White, 128 GB)', 'realme C55 (Sunshower, 128 GB)', 'realme C55 (Rainy Night, 128 GB)', 'realme 10 (Rush Black, 128 GB)', 'realme C30 (Bamboo Green, 32 GB)', 'realme C55 (Rainy Night, 64 GB)', 'realme C55 (Sunshower, 64 GB)', 'realme 10 (Rush Black, 64 GB)', 'realme C30 (Denim Black, 32 GB)', 'realme C30 (Lake Blue, 32 GB)', 'realme C55 (Rainy Night, 64 GB)', 'realme C55 (Sunshower, 64 GB)', 'realme C30 (Denim Black, 32 GB)', 'realme 10 (Clash White, 64 GB)', 'realme 10 Pro 5G (Dark Matter, 128 GB)', 'realme 10 Pro 5G (Nebula Blue, 128 GB)', 'realme 10 Pro 5G (Nebula Blue, 128 GB)'], 'rule_s3ti': ['realme C53 (Champion Gold, 64 GB)', 'realme C53 (Champion Gold, 128 GB)', 'realme C53 (Champion Black, 64 GB)', 'realme C53 (Champion Black, 128 GB)', 'realme C55 (Rainforest, 64 GB)', 'realme C55 (Rainforest, 128 GB)', 'realme C55 (Rainforest, 64 GB)', 'realme 10 (Clash White, 128 GB)', 'realme C55 (Sunshower, 128 GB)', 'realme C55 (Rainy Night, 128 GB)', 'realme 10 (Rush Black, 128 GB)', 'realme C30 (Bamboo Green, 32 GB)', 'realme C55 (Rainy Night, 64 GB)', 'realme C55 (Sunshower, 64 GB)', 'realme 10 (Rush Black, 64 GB)', 'realme C30 (Denim Black, 32 GB)', 'realme C30 (Lake Blue, 32 GB)', 'realme C55 (Rainy Night, 64 GB)', 'realme C55 (Sunshower, 64 GB)', 'realme C30 (Denim Black, 32 GB)', 'realme 10 (Clash White, 64 GB)', 'realme 10 Pro 5G (Dark Matter, 128 GB)', 'realme 10 Pro 5G (Nebula Blue, 128 GB)', 'realme 10 Pro 5G (Nebula Blue, 128 GB)'], 'rule_75pt': ['₹18,999', '₹14,999', '₹10,999', '₹13,999', '₹11,999'], 'rule_2cde': ['₹10,999', '₹9,999', '₹10,999', '₹9,999', '₹11,999', '₹13,999', '₹10,999', '₹14,999', '₹13,999', '₹13,999', '₹14,999', '₹6,499', '₹10,999', '₹10,999', '₹11,499', '₹6,499', '₹6,499', '₹11,999', '₹11,999', '₹5,999', '₹11,499', '₹19,999', '₹18,999', '₹19,999'], 'rule_yuvg': ['₹10,999', '₹9,999', '₹10,999', '₹9,999', '₹11,999', '₹13,999', '₹10,999', '₹14,999', '₹13,999', '₹13,999', '₹14,999', '₹6,499', '₹10,999', '₹10,999', '₹11,499', '₹6,499', '₹6,499', '₹11,999', '₹11,999', '₹5,999', '₹11,499', '₹19,999', '₹18,999', '₹19,999'], 'rule_s48g': ['₹18,999', '₹14,999', '₹10,999', '₹13,999', '₹11,999'], 'rule_yce8': ['₹10,999', '₹9,999', '₹10,999', '₹9,999', '₹11,999', '₹13,999', '₹10,999', '₹14,999', '₹13,999', '₹13,999', '₹14,999', '₹6,499', '₹10,999', '₹10,999', '₹11,499', '₹6,499', '₹6,499', '₹11,999', '₹11,999', '₹5,999', '₹11,499', '₹19,999', '₹18,999', '₹19,999'], 'rule_1wf7': ['₹10,999', '₹9,999', '₹10,999', '₹9,999', '₹11,999', '₹13,999', '₹10,999', '₹14,999', '₹13,999', '₹13,999', '₹14,999', '₹6,499', '₹10,999', '₹10,999', '₹11,499', '₹6,499', '₹6,499', '₹11,999', '₹11,999', '₹5,999', '₹11,499', '₹19,999', '₹18,999', '₹19,999'], 'rule_yeu5': ['₹10,999', '₹9,999', '₹10,999', '₹9,999', '₹11,999', '₹13,999', '₹10,999', '₹14,999', '₹13,999', '₹13,999', '₹14,999', '₹6,499', '₹10,999', '₹10,999', '₹11,499', '₹6,499', '₹6,499', '₹11,999', '₹11,999', '₹5,999', '₹11,499', '₹19,999', '₹18,999', '₹19,999'], 'rule_coh1': ['₹12,999', '₹11,999', '₹12,999', '₹11,999', '₹13,999', '₹15,999', '₹12,999', '₹19,999', '₹15,999', '₹15,999', '₹19,999', '₹9,299', '₹12,999', '₹12,999', '₹15,999', '₹9,299', '₹9,299', '₹13,999', '₹13,999', '₹8,499', '₹15,999', '₹22,999', '₹20,999', '₹22,999'], 'rule_kppu': ['₹12,999', '₹11,999', '₹12,999', '₹11,999', '₹13,999', '₹15,999', '₹12,999', '₹19,999', '₹15,999', '₹15,999', '₹19,999', '₹9,299', '₹12,999', '₹12,999', '₹15,999', '₹9,299', '₹9,299', '₹13,999', '₹13,999', '₹8,499', '₹15,999', '₹22,999', '₹20,999', '₹22,999'], 'rule_53wd': ['4.3', '4.3', '4.5', '4.4', '4.3'], 'rule_m21w': ['4.5', '4.1', '4.5', '4.1', '4.3', '4.4', '4.4', '4.3', '4.4', '4.4', '4.3', '4.1', '4.4', '4.4', '4.2', '4.1', '4.1', '4.3', '4.3', '4.2', '4.2', '4.3', '4.3', '4.3'], 'rule_oeut': ['4.5', '4.1', '4.5', '4.1', '4.3', '4.4', '4.4', '4.3', '4.4', '4.4', '4.3', '4.1', '4.4', '4.4', '4.2', '4.1', '4.1', '4.3', '4.3', '4.2', '4.2', '4.3', '4.3', '4.3'], 'rule_neg0': ['4.5', '4.1', '4.5', '4.1', '4.3', '4.4', '4.4', '4.3', '4.4', '4.4', '4.3', '4.1', '4.4', '4.4', '4.2', '4.1', '4.1', '4.3', '4.3', '4.2', '4.2', '4.3', '4.3', '4.3'], 'rule_sd56': ['4.5', '4.1', '4.5', '4.1', '4.3', '4.4', '4.4', '4.3', '4.4', '4.4', '4.3', '4.1', '4.4', '4.4', '4.2', '4.1', '4.1', '4.3', '4.3', '4.2', '4.2', '4.3', '4.3', '4.3'], 'rule_qvqg': ['4.5', '4.1', '4.5', '4.1', '4.3', '4.4', '4.4', '4.3', '4.4', '4.4', '4.3', '4.1', '4.4', '4.4', '4.2', '4.1', '4.1', '4.3', '4.3', '4.2', '4.2', '4.3', '4.3', '4.3'], 'rule_9f6p': ['34,372 Ratings', '7,800 Ratings', '11,901 Ratings', '21,681 Ratings', '13,100 Ratings'], 'rule_hvd2': ['11,901 Ratings', '1,940 Ratings', '11,901 Ratings', '1,940 Ratings', '13,100 Ratings', '21,681 Ratings', '68,065 Ratings', '7,800 Ratings', '21,681 Ratings', '21,681 Ratings', '7,800 Ratings', '63,092 Ratings', '68,065 Ratings', '68,065 Ratings', '17,767 Ratings', '63,092 Ratings', '63,092 Ratings', '13,100 Ratings', '13,100 Ratings', '1,07,583 Ratings', '17,767 Ratings', '27,475 Ratings', '34,372 Ratings', '27,475 Ratings'], 'rule_bqus': ['11,901 Ratings', '1,940 Ratings', '11,901 Ratings', '1,940 Ratings', '13,100 Ratings', '21,681 Ratings', '68,065 Ratings', '7,800 Ratings', '21,681 Ratings', '21,681 Ratings', '7,800 Ratings', '63,092 Ratings', '68,065 Ratings', '68,065 Ratings', '17,767 Ratings', '63,092 Ratings', '63,092 Ratings', '13,100 Ratings', '13,100 Ratings', '1,07,583 Ratings', '17,767 Ratings', '27,475 Ratings', '34,372 Ratings', '27,475 Ratings'], 'rule_0rcc': ['2,476 Reviews', '551 Reviews', '523 Reviews', '1,209 Reviews', '851 Reviews'], 'rule_eczl': ['523 Reviews', '174 Reviews', '523 Reviews', '174 Reviews', '851 Reviews', '1,209 Reviews', '3,898 Reviews', '551 Reviews', '1,209 Reviews', '1,209 Reviews', '551 Reviews', '3,799 Reviews', '3,898 Reviews', '3,898 Reviews', '1,411 Reviews', '3,799 Reviews', '3,799 Reviews', '851 Reviews', '851 Reviews', '5,706 Reviews', '1,411 Reviews', '2,001 Reviews', '2,476 Reviews', '2,001 Reviews'], 'rule_s5pk': ['523 Reviews', '174 Reviews', '523 Reviews', '174 Reviews', '851 Reviews', '1,209 Reviews', '3,898 Reviews', '551 Reviews', '1,209 Reviews', '1,209 Reviews', '551 Reviews', '3,799 Reviews', '3,898 Reviews', '3,898 Reviews', '1,411 Reviews', '3,799 Reviews', '3,799 Reviews', '851 Reviews', '851 Reviews', '5,706 Reviews', '1,411 Reviews', '2,001 Reviews', '2,476 Reviews', '2,001 Reviews'], 'rule_4q2l': ['6 GB RAM | 128 GB ROM | Expandable Upto 1 TB', '8 GB RAM | 128 GB ROM | Expandable Upto 1 TB', '6 GB RAM | 64 GB ROM | Expandable Upto 2 TB', '8 GB RAM | 128 GB ROM | Expandable Upto 1 TB', '6 GB RAM | 64 GB ROM | Expandable Upto 1 TB'], 'rule_4xa4': ['6 GB RAM | 64 GB ROM | Expandable Upto 2 TB', '4 GB RAM | 128 GB ROM | Expandable Upto 2 TB', '6 GB RAM | 64 GB ROM | Expandable Upto 2 TB', '4 GB RAM | 128 GB ROM | Expandable Upto 2 TB', '6 GB RAM | 64 GB ROM | Expandable Upto 1 TB', '8 GB RAM | 128 GB ROM | Expandable Upto 1 TB', '4 GB RAM | 64 GB ROM | Expandable Upto 1 TB', '8 GB RAM | 128 GB ROM | Expandable Upto 1 TB', '8 GB RAM | 128 GB ROM | Expandable Upto 1 TB', '8 GB RAM | 128 GB ROM | Expandable Upto 1 TB', '8 GB RAM | 128 GB ROM | Expandable Upto 1 TB', '3 GB RAM | 32 GB ROM | Expandable Upto 1 TB', '4 GB RAM | 64 GB ROM | Expandable Upto 1 TB', '4 GB RAM | 64 GB ROM | Expandable Upto 1 TB', '4 GB RAM | 64 GB ROM | Expandable Upto 1 TB', '3 GB RAM | 32 GB ROM | Expandable Upto 1 TB', '3 GB RAM | 32 GB ROM | Expandable Upto 1 TB', '6 GB RAM | 64 GB ROM | Expandable Upto 1 TB', '6 GB RAM | 64 GB ROM | Expandable Upto 1 TB', '2 GB RAM | 32 GB ROM | Expandable Upto 1 TB', '4 GB RAM | 64 GB ROM | Expandable Upto 1 TB', '8 GB RAM | 128 GB ROM | Expandable Upto 1 TB', '6 GB RAM | 128 GB ROM | Expandable Upto 1 TB', '8 GB RAM | 128 GB ROM | Expandable Upto 1 TB'], 'rule_f7kk': ['6 GB RAM | 64 GB ROM | Expandable Upto 2 TB', '4 GB RAM | 128 GB ROM | Expandable Upto 2 TB', '6 GB RAM | 64 GB ROM | Expandable Upto 2 TB', '4 GB RAM | 128 GB ROM | Expandable Upto 2 TB', '6 GB RAM | 64 GB ROM | Expandable Upto 1 TB', '8 GB RAM | 128 GB ROM | Expandable Upto 1 TB', '4 GB RAM | 64 GB ROM | Expandable Upto 1 TB', '8 GB RAM | 128 GB ROM | Expandable Upto 1 TB', '8 GB RAM | 128 GB ROM | Expandable Upto 1 TB', '8 GB RAM | 128 GB ROM | Expandable Upto 1 TB', '8 GB RAM | 128 GB ROM | Expandable Upto 1 TB', '3 GB RAM | 32 GB ROM | Expandable Upto 1 TB', '4 GB RAM | 64 GB ROM | Expandable Upto 1 TB', '4 GB RAM | 64 GB ROM | Expandable Upto 1 TB', '4 GB RAM | 64 GB ROM | Expandable Upto 1 TB', '3 GB RAM | 32 GB ROM | Expandable Upto 1 TB', '3 GB RAM | 32 GB ROM | Expandable Upto 1 TB', '6 GB RAM | 64 GB ROM | Expandable Upto 1 TB', '6 GB RAM | 64 GB ROM | Expandable Upto 1 TB', '2 GB RAM | 32 GB ROM | Expandable Upto 1 TB', '4 GB RAM | 64 GB ROM | Expandable Upto 1 TB', '8 GB RAM | 128 GB ROM | Expandable Upto 1 TB', '6 GB RAM | 128 GB ROM | Expandable Upto 1 TB', '8 GB RAM | 128 GB ROM | Expandable Upto 1 TB'], 'rule_q6ts': ['17.07 cm (6.72 inch) Full HD+ Display', '16.26 cm (6.4 inch) Full HD+ Display', '17.12 cm (6.74 inch) HD Display', '17.07 cm (6.72 inch) Full HD+ Display', '17.07 cm (6.72 inch) Full HD+ Display'], 'rule_q23d': ['17.07 cm (6.72 inch) Full HD+ Display', '16.26 cm (6.4 inch) Full HD+ Display', '17.12 cm (6.74 inch) HD Display', '17.07 cm (6.72 inch) Full HD+ Display', '17.07 cm (6.72 inch) Full HD+ Display'], 'rule_59iu': ['17.12 cm (6.74 inch) HD Display', '17.12 cm (6.74 inch) HD Display', '17.12 cm (6.74 inch) HD Display', '17.12 cm (6.74 inch) HD Display', '17.07 cm (6.72 inch) Full HD+ Display', '17.07 cm (6.72 inch) Full HD+ Display', '17.07 cm (6.72 inch) Full HD+ Display', '16.26 cm (6.4 inch) Full HD+ Display', '17.07 cm (6.72 inch) Full HD+ Display', '17.07 cm (6.72 inch) Full HD+ Display', '16.26 cm (6.4 inch) Full HD+ Display', '16.51 cm (6.5 inch) HD+ Display', '17.07 cm (6.72 inch) Full HD+ Display', '17.07 cm (6.72 inch) Full HD+ Display', '16.26 cm (6.4 inch) Full HD+ Display', '16.51 cm (6.5 inch) HD+ Display', '16.51 cm (6.5 inch) HD+ Display', '17.07 cm (6.72 inch) Full HD+ Display', '17.07 cm (6.72 inch) Full HD+ Display', '16.51 cm (6.5 inch) HD+ Display', '16.26 cm (6.4 inch) Full HD+ Display', '17.07 cm (6.72 inch) Full HD+ Display', '17.07 cm (6.72 inch) Full HD+ Display', '17.07 cm (6.72 inch) Full HD+ Display'], 'rule_k7n9': ['17.12 cm (6.74 inch) HD Display', '17.12 cm (6.74 inch) HD Display', '17.12 cm (6.74 inch) HD Display', '17.12 cm (6.74 inch) HD Display', '17.07 cm (6.72 inch) Full HD+ Display', '17.07 cm (6.72 inch) Full HD+ Display', '17.07 cm (6.72 inch) Full HD+ Display', '16.26 cm (6.4 inch) Full HD+ Display', '17.07 cm (6.72 inch) Full HD+ Display', '17.07 cm (6.72 inch) Full HD+ Display', '16.26 cm (6.4 inch) Full HD+ Display', '16.51 cm (6.5 inch) HD+ Display', '17.07 cm (6.72 inch) Full HD+ Display', '17.07 cm (6.72 inch) Full HD+ Display', '16.26 cm (6.4 inch) Full HD+ Display', '16.51 cm (6.5 inch) HD+ Display', '16.51 cm (6.5 inch) HD+ Display', '17.07 cm (6.72 inch) Full HD+ Display', '17.07 cm (6.72 inch) Full HD+ Display', '16.51 cm (6.5 inch) HD+ Display', '16.26 cm (6.4 inch) Full HD+ Display', '17.07 cm (6.72 inch) Full HD+ Display', '17.07 cm (6.72 inch) Full HD+ Display', '17.07 cm (6.72 inch) Full HD+ Display'], 'rule_ovwh': ['17.12 cm (6.74 inch) HD Display', '17.12 cm (6.74 inch) HD Display', '17.12 cm (6.74 inch) HD Display', '17.12 cm (6.74 inch) HD Display', '17.07 cm (6.72 inch) Full HD+ Display', '17.07 cm (6.72 inch) Full HD+ Display', '17.07 cm (6.72 inch) Full HD+ Display', '16.26 cm (6.4 inch) Full HD+ Display', '17.07 cm (6.72 inch) Full HD+ Display', '17.07 cm (6.72 inch) Full HD+ Display', '16.26 cm (6.4 inch) Full HD+ Display', '16.51 cm (6.5 inch) HD+ Display', '17.07 cm (6.72 inch) Full HD+ Display', '17.07 cm (6.72 inch) Full HD+ Display', '16.26 cm (6.4 inch) Full HD+ Display', '16.51 cm (6.5 inch) HD+ Display', '16.51 cm (6.5 inch) HD+ Display', '17.07 cm (6.72 inch) Full HD+ Display', '17.07 cm (6.72 inch) Full HD+ Display', '16.51 cm (6.5 inch) HD+ Display', '16.26 cm (6.4 inch) Full HD+ Display', '17.07 cm (6.72 inch) Full HD+ Display', '17.07 cm (6.72 inch) Full HD+ Display', '17.07 cm (6.72 inch) Full HD+ Display'], 'rule_yig9': ['17.12 cm (6.74 inch) HD Display', '17.12 cm (6.74 inch) HD Display', '17.12 cm (6.74 inch) HD Display', '17.12 cm (6.74 inch) HD Display', '17.07 cm (6.72 inch) Full HD+ Display', '17.07 cm (6.72 inch) Full HD+ Display', '17.07 cm (6.72 inch) Full HD+ Display', '16.26 cm (6.4 inch) Full HD+ Display', '17.07 cm (6.72 inch) Full HD+ Display', '17.07 cm (6.72 inch) Full HD+ Display', '16.26 cm (6.4 inch) Full HD+ Display', '16.51 cm (6.5 inch) HD+ Display', '17.07 cm (6.72 inch) Full HD+ Display', '17.07 cm (6.72 inch) Full HD+ Display', '16.26 cm (6.4 inch) Full HD+ Display', '16.51 cm (6.5 inch) HD+ Display', '16.51 cm (6.5 inch) HD+ Display', '17.07 cm (6.72 inch) Full HD+ Display', '17.07 cm (6.72 inch) Full HD+ Display', '16.51 cm (6.5 inch) HD+ Display', '16.26 cm (6.4 inch) Full HD+ Display', '17.07 cm (6.72 inch) Full HD+ Display', '17.07 cm (6.72 inch) Full HD+ Display', '17.07 cm (6.72 inch) Full HD+ Display'], 'rule_dc43': ['108MP + 2MP | 16MP Front Camera', '50MP + 2MP | 16MP Front Camera', '108MP + 2MP | 8MP Front Camera', '64MP + 2MP | 8MP Front Camera', '64MP + 2MP | 8MP Front Camera'], 'rule_pwxm': ['108MP + 2MP | 16MP Front Camera', '50MP + 2MP | 16MP Front Camera', '108MP + 2MP | 8MP Front Camera', '64MP + 2MP | 8MP Front Camera', '64MP + 2MP | 8MP Front Camera'], 'rule_cgnx': ['108MP + 2MP | 8MP Front Camera', '108MP + 2MP | 8MP Front Camera', '108MP + 2MP | 8MP Front Camera', '108MP + 2MP | 8MP Front Camera', '64MP + 2MP | 8MP Front Camera', '64MP + 2MP | 8MP Front Camera', '64MP + 2MP | 8MP Front Camera', '50MP + 2MP | 16MP Front Camera', '64MP + 2MP | 8MP Front Camera', '64MP + 2MP | 8MP Front Camera', '50MP + 2MP | 16MP Front Camera', '8MP Rear Camera | 5MP Front Camera', '64MP + 2MP | 8MP Front Camera', '64MP + 2MP | 8MP Front Camera', '50MP + 2MP | 16MP Front Camera', '8MP Rear Camera | 5MP Front Camera', '8MP Rear Camera | 5MP Front Camera', '64MP + 2MP | 8MP Front Camera', '64MP + 2MP | 8MP Front Camera', '8MP Rear Camera | 5MP Front Camera', '50MP + 2MP | 16MP Front Camera', '108MP + 2MP | 16MP Front Camera', '108MP + 2MP | 16MP Front Camera', '108MP + 2MP | 16MP Front Camera'], 'rule_u1xi': ['108MP + 2MP | 8MP Front Camera', '108MP + 2MP | 8MP Front Camera', '108MP + 2MP | 8MP Front Camera', '108MP + 2MP | 8MP Front Camera', '64MP + 2MP | 8MP Front Camera', '64MP + 2MP | 8MP Front Camera', '64MP + 2MP | 8MP Front Camera', '50MP + 2MP | 16MP Front Camera', '64MP + 2MP | 8MP Front Camera', '64MP + 2MP | 8MP Front Camera', '50MP + 2MP | 16MP Front Camera', '8MP Rear Camera | 5MP Front Camera', '64MP + 2MP | 8MP Front Camera', '64MP + 2MP | 8MP Front Camera', '50MP + 2MP | 16MP Front Camera', '8MP Rear Camera | 5MP Front Camera', '8MP Rear Camera | 5MP Front Camera', '64MP + 2MP | 8MP Front Camera', '64MP + 2MP | 8MP Front Camera', '8MP Rear Camera | 5MP Front Camera', '50MP + 2MP | 16MP Front Camera', '108MP + 2MP | 16MP Front Camera', '108MP + 2MP | 16MP Front Camera', '108MP + 2MP | 16MP Front Camera'], 'rule_6vr3': ['108MP + 2MP | 8MP Front Camera', '108MP + 2MP | 8MP Front Camera', '108MP + 2MP | 8MP Front Camera', '108MP + 2MP | 8MP Front Camera', '64MP + 2MP | 8MP Front Camera', '64MP + 2MP | 8MP Front Camera', '64MP + 2MP | 8MP Front Camera', '50MP + 2MP | 16MP Front Camera', '64MP + 2MP | 8MP Front Camera', '64MP + 2MP | 8MP Front Camera', '50MP + 2MP | 16MP Front Camera', '8MP Rear Camera | 5MP Front Camera', '64MP + 2MP | 8MP Front Camera', '64MP + 2MP | 8MP Front Camera', '50MP + 2MP | 16MP Front Camera', '8MP Rear Camera | 5MP Front Camera', '8MP Rear Camera | 5MP Front Camera', '64MP + 2MP | 8MP Front Camera', '64MP + 2MP | 8MP Front Camera', '8MP Rear Camera | 5MP Front Camera', '50MP + 2MP | 16MP Front Camera', '108MP + 2MP | 16MP Front Camera', '108MP + 2MP | 16MP Front Camera', '108MP + 2MP | 16MP Front Camera'], 'rule_rxoe': ['108MP + 2MP | 8MP Front Camera', '108MP + 2MP | 8MP Front Camera', '108MP + 2MP | 8MP Front Camera', '108MP + 2MP | 8MP Front Camera', '64MP + 2MP | 8MP Front Camera', '64MP + 2MP | 8MP Front Camera', '64MP + 2MP | 8MP Front Camera', '50MP + 2MP | 16MP Front Camera', '64MP + 2MP | 8MP Front Camera', '64MP + 2MP | 8MP Front Camera', '50MP + 2MP | 16MP Front Camera', '8MP Rear Camera | 5MP Front Camera', '64MP + 2MP | 8MP Front Camera', '64MP + 2MP | 8MP Front Camera', '50MP + 2MP | 16MP Front Camera', '8MP Rear Camera | 5MP Front Camera', '8MP Rear Camera | 5MP Front Camera', '64MP + 2MP | 8MP Front Camera', '64MP + 2MP | 8MP Front Camera', '8MP Rear Camera | 5MP Front Camera', '50MP + 2MP | 16MP Front Camera', '108MP + 2MP | 16MP Front Camera', '108MP + 2MP | 16MP Front Camera', '108MP + 2MP | 16MP Front Camera'], 'rule_pwq0': ['5000 mAh Battery', '5000 mAh Battery', '5000 mAh Battery', '5000 mAh Battery', '5000 mAh Battery', '5000 mAh Battery', '5000 mAh Battery', '5000 mAh Battery', '5000 mAh Battery', '5000 mAh Battery', '5000 mAh Battery', '5000 mAh Lithium Ion Battery', '5000 mAh Battery', '5000 mAh Battery', '5000 mAh Battery', '5000 mAh Lithium Ion Battery', '5000 mAh Lithium Ion Battery', '5000 mAh Battery', '5000 mAh Battery', '5000 mAh Lithium Ion Battery', '5000 mAh Battery', '5000 mAh Battery', '5000 mAh Battery', '5000 mAh Battery'], 'rule_h699': ['5000 mAh Battery', '5000 mAh Battery', '5000 mAh Battery', '5000 mAh Battery', '5000 mAh Battery', '5000 mAh Battery', '5000 mAh Battery', '5000 mAh Battery', '5000 mAh Battery', '5000 mAh Battery', '5000 mAh Battery', '5000 mAh Lithium Ion Battery', '5000 mAh Battery', '5000 mAh Battery', '5000 mAh Battery', '5000 mAh Lithium Ion Battery', '5000 mAh Lithium Ion Battery', '5000 mAh Battery', '5000 mAh Battery', '5000 mAh Lithium Ion Battery', '5000 mAh Battery', '5000 mAh Battery', '5000 mAh Battery', '5000 mAh Battery'], 'rule_ncb6': ['5000 mAh Battery', '5000 mAh Battery', '5000 mAh Battery', '5000 mAh Battery', '5000 mAh Battery', '5000 mAh Battery', '5000 mAh Battery', '5000 mAh Battery', '5000 mAh Battery', '5000 mAh Battery', '5000 mAh Battery', '5000 mAh Lithium Ion Battery', '5000 mAh Battery', '5000 mAh Battery', '5000 mAh Battery', '5000 mAh Lithium Ion Battery', '5000 mAh Lithium Ion Battery', '5000 mAh Battery', '5000 mAh Battery', '5000 mAh Lithium Ion Battery', '5000 mAh Battery', '5000 mAh Battery', '5000 mAh Battery', '5000 mAh Battery'], 'rule_xogo': ['5000 mAh Battery', '5000 mAh Battery', '5000 mAh Battery', '5000 mAh Battery', '5000 mAh Battery', '5000 mAh Battery', '5000 mAh Battery', '5000 mAh Battery', '5000 mAh Battery', '5000 mAh Battery', '5000 mAh Battery', '5000 mAh Lithium Ion Battery', '5000 mAh Battery', '5000 mAh Battery', '5000 mAh Battery', '5000 mAh Lithium Ion Battery', '5000 mAh Lithium Ion Battery', '5000 mAh Battery', '5000 mAh Battery', '5000 mAh Lithium Ion Battery', '5000 mAh Battery', '5000 mAh Battery', '5000 mAh Battery', '5000 mAh Battery'], 'rule_pgdi': ['5000 mAh Battery', '5000 mAh Battery', '5000 mAh Battery', '5000 mAh Battery', '5000 mAh Battery', '5000 mAh Battery', '5000 mAh Battery', '5000 mAh Battery', '5000 mAh Battery', '5000 mAh Battery', '5000 mAh Battery', '5000 mAh Lithium Ion Battery', '5000 mAh Battery', '5000 mAh Battery', '5000 mAh Battery', '5000 mAh Lithium Ion Battery', '5000 mAh Lithium Ion Battery', '5000 mAh Battery', '5000 mAh Battery', '5000 mAh Lithium Ion Battery', '5000 mAh Battery', '5000 mAh Battery', '5000 mAh Battery', '5000 mAh Battery'], 'rule_jy3x': ['5000 mAh Battery', '5000 mAh Battery', '5000 mAh Battery', '5000 mAh Battery', '5000 mAh Battery', '5000 mAh Battery', '5000 mAh Battery', '5000 mAh Battery', '5000 mAh Battery', '5000 mAh Battery', '5000 mAh Battery', '5000 mAh Lithium Ion Battery', '5000 mAh Battery', '5000 mAh Battery', '5000 mAh Battery', '5000 mAh Lithium Ion Battery', '5000 mAh Lithium Ion Battery', '5000 mAh Battery', '5000 mAh Battery', '5000 mAh Lithium Ion Battery', '5000 mAh Battery', '5000 mAh Battery', '5000 mAh Battery', '5000 mAh Battery'], 'rule_p172': ['5000 mAh Battery', '5000 mAh Battery', '5000 mAh Battery', '5000 mAh Battery', '5000 mAh Battery', '5000 mAh Battery', '5000 mAh Battery', '5000 mAh Battery', '5000 mAh Battery', '5000 mAh Battery', '5000 mAh Battery', '5000 mAh Lithium Ion Battery', '5000 mAh Battery', '5000 mAh Battery', '5000 mAh Battery', '5000 mAh Lithium Ion Battery', '5000 mAh Lithium Ion Battery', '5000 mAh Battery', '5000 mAh Battery', '5000 mAh Lithium Ion Battery', '5000 mAh Battery', '5000 mAh Battery', '5000 mAh Battery', '5000 mAh Battery'], 'rule_tebz': ['5000 mAh Battery', '5000 mAh Battery', '5000 mAh Battery', '5000 mAh Battery', '5000 mAh Battery', '5000 mAh Battery', '5000 mAh Battery', '5000 mAh Battery', '5000 mAh Battery', '5000 mAh Battery', '5000 mAh Battery', '5000 mAh Lithium Ion Battery', '5000 mAh Battery', '5000 mAh Battery', '5000 mAh Battery', '5000 mAh Lithium Ion Battery', '5000 mAh Lithium Ion Battery', '5000 mAh Battery', '5000 mAh Battery', '5000 mAh Lithium Ion Battery', '5000 mAh Battery', '5000 mAh Battery', '5000 mAh Battery', '5000 mAh Battery'], 'rule_p4dd': ['5000 mAh Battery', '5000 mAh Battery', '5000 mAh Battery', '5000 mAh Battery', '5000 mAh Battery', '5000 mAh Battery', '5000 mAh Battery', '5000 mAh Battery', '5000 mAh Battery', '5000 mAh Battery', '5000 mAh Battery', '5000 mAh Lithium Ion Battery', '5000 mAh Battery', '5000 mAh Battery', '5000 mAh Battery', '5000 mAh Lithium Ion Battery', '5000 mAh Lithium Ion Battery', '5000 mAh Battery', '5000 mAh Battery', '5000 mAh Lithium Ion Battery', '5000 mAh Battery', '5000 mAh Battery', '5000 mAh Battery', '5000 mAh Battery'], 'rule_870e': ['5000 mAh Battery', '5000 mAh Battery', '5000 mAh Battery', '5000 mAh Battery', '5000 mAh Battery', '5000 mAh Battery', '5000 mAh Battery', '5000 mAh Battery', '5000 mAh Battery', '5000 mAh Battery', '5000 mAh Battery', '5000 mAh Lithium Ion Battery', '5000 mAh Battery', '5000 mAh Battery', '5000 mAh Battery', '5000 mAh Lithium Ion Battery', '5000 mAh Lithium Ion Battery', '5000 mAh Battery', '5000 mAh Battery', '5000 mAh Lithium Ion Battery', '5000 mAh Battery', '5000 mAh Battery', '5000 mAh Battery', '5000 mAh Battery'], 'rule_lhur': ['5000 mAh Battery', '5000 mAh Battery', '5000 mAh Battery', '5000 mAh Battery', '5000 mAh Battery', '5000 mAh Battery', '5000 mAh Battery', '5000 mAh Battery', '5000 mAh Battery', '5000 mAh Battery', '5000 mAh Battery', '5000 mAh Lithium Ion Battery', '5000 mAh Battery', '5000 mAh Battery', '5000 mAh Battery', '5000 mAh Lithium Ion Battery', '5000 mAh Lithium Ion Battery', '5000 mAh Battery', '5000 mAh Battery', '5000 mAh Lithium Ion Battery', '5000 mAh Battery', '5000 mAh Battery', '5000 mAh Battery', '5000 mAh Battery'], 'rule_ubp3': ['5000 mAh Battery', '5000 mAh Battery', '5000 mAh Battery', '5000 mAh Battery', '5000 mAh Battery', '5000 mAh Battery', '5000 mAh Battery', '5000 mAh Battery', '5000 mAh Battery', '5000 mAh Battery', '5000 mAh Battery', '5000 mAh Lithium Ion Battery', '5000 mAh Battery', '5000 mAh Battery', '5000 mAh Battery', '5000 mAh Lithium Ion Battery', '5000 mAh Lithium Ion Battery', '5000 mAh Battery', '5000 mAh Battery', '5000 mAh Lithium Ion Battery', '5000 mAh Battery', '5000 mAh Battery', '5000 mAh Battery', '5000 mAh Battery'], 'rule_3yjp': ['5000 mAh Battery', '5000 mAh Battery', '5000 mAh Battery', '5000 mAh Battery', '5000 mAh Battery', '5000 mAh Battery', '5000 mAh Battery', '5000 mAh Battery', '5000 mAh Battery', '5000 mAh Battery', '5000 mAh Battery', '5000 mAh Lithium Ion Battery', '5000 mAh Battery', '5000 mAh Battery', '5000 mAh Battery', '5000 mAh Lithium Ion Battery', '5000 mAh Lithium Ion Battery', '5000 mAh Battery', '5000 mAh Battery', '5000 mAh Lithium Ion Battery', '5000 mAh Battery', '5000 mAh Battery', '5000 mAh Battery', '5000 mAh Battery'], 'rule_fxro': ['5000 mAh Battery', '5000 mAh Battery', '5000 mAh Battery', '5000 mAh Battery', '5000 mAh Battery', '5000 mAh Battery', '5000 mAh Battery', '5000 mAh Battery', '5000 mAh Battery', '5000 mAh Battery', '5000 mAh Battery', '5000 mAh Lithium Ion Battery', '5000 mAh Battery', '5000 mAh Battery', '5000 mAh Battery', '5000 mAh Lithium Ion Battery', '5000 mAh Lithium Ion Battery', '5000 mAh Battery', '5000 mAh Battery', '5000 mAh Lithium Ion Battery', '5000 mAh Battery', '5000 mAh Battery', '5000 mAh Battery', '5000 mAh Battery'], 'rule_b1su': ['5000 mAh Battery', '5000 mAh Battery', '5000 mAh Battery', '5000 mAh Battery', '5000 mAh Battery', '5000 mAh Battery', '5000 mAh Battery', '5000 mAh Battery', '5000 mAh Battery', '5000 mAh Battery', '5000 mAh Battery', '5000 mAh Lithium Ion Battery', '5000 mAh Battery', '5000 mAh Battery', '5000 mAh Battery', '5000 mAh Lithium Ion Battery', '5000 mAh Lithium Ion Battery', '5000 mAh Battery', '5000 mAh Battery', '5000 mAh Lithium Ion Battery', '5000 mAh Battery', '5000 mAh Battery', '5000 mAh Battery', '5000 mAh Battery'], 'rule_w9d7': ['5000 mAh Battery', '5000 mAh Battery', '5000 mAh Battery', '5000 mAh Battery', '5000 mAh Battery', '5000 mAh Battery', '5000 mAh Battery', '5000 mAh Battery', '5000 mAh Battery', '5000 mAh Battery', '5000 mAh Battery', '5000 mAh Lithium Ion Battery', '5000 mAh Battery', '5000 mAh Battery', '5000 mAh Battery', '5000 mAh Lithium Ion Battery', '5000 mAh Lithium Ion Battery', '5000 mAh Battery', '5000 mAh Battery', '5000 mAh Lithium Ion Battery', '5000 mAh Battery', '5000 mAh Battery', '5000 mAh Battery', '5000 mAh Battery'], 'rule_qt90': ['5000 mAh Battery', '5000 mAh Battery', '5000 mAh Battery', '5000 mAh Battery', '5000 mAh Battery', '5000 mAh Battery', '5000 mAh Battery', '5000 mAh Battery', '5000 mAh Battery', '5000 mAh Battery', '5000 mAh Battery', '5000 mAh Lithium Ion Battery', '5000 mAh Battery', '5000 mAh Battery', '5000 mAh Battery', '5000 mAh Lithium Ion Battery', '5000 mAh Lithium Ion Battery', '5000 mAh Battery', '5000 mAh Battery', '5000 mAh Lithium Ion Battery', '5000 mAh Battery', '5000 mAh Battery', '5000 mAh Battery', '5000 mAh Battery'], 'rule_h4fs': ['5000 mAh Battery', '5000 mAh Battery', '5000 mAh Battery', '5000 mAh Battery', '5000 mAh Battery', '5000 mAh Battery', '5000 mAh Battery', '5000 mAh Battery', '5000 mAh Battery', '5000 mAh Battery', '5000 mAh Battery', '5000 mAh Lithium Ion Battery', '5000 mAh Battery', '5000 mAh Battery', '5000 mAh Battery', '5000 mAh Lithium Ion Battery', '5000 mAh Lithium Ion Battery', '5000 mAh Battery', '5000 mAh Battery', '5000 mAh Lithium Ion Battery', '5000 mAh Battery', '5000 mAh Battery', '5000 mAh Battery', '5000 mAh Battery'], 'rule_t90n': ['5000 mAh Battery', '5000 mAh Battery', '5000 mAh Battery', '5000 mAh Battery', '5000 mAh Battery', '5000 mAh Battery', '5000 mAh Battery', '5000 mAh Battery', '5000 mAh Battery', '5000 mAh Battery', '5000 mAh Battery', '5000 mAh Lithium Ion Battery', '5000 mAh Battery', '5000 mAh Battery', '5000 mAh Battery', '5000 mAh Lithium Ion Battery', '5000 mAh Lithium Ion Battery', '5000 mAh Battery', '5000 mAh Battery', '5000 mAh Lithium Ion Battery', '5000 mAh Battery', '5000 mAh Battery', '5000 mAh Battery', '5000 mAh Battery'], 'rule_t0iy': ['5000 mAh Battery', '5000 mAh Battery', '5000 mAh Battery', '5000 mAh Battery', '5000 mAh Battery', '5000 mAh Battery', '5000 mAh Battery', '5000 mAh Battery', '5000 mAh Battery', '5000 mAh Battery', '5000 mAh Battery', '5000 mAh Lithium Ion Battery', '5000 mAh Battery', '5000 mAh Battery', '5000 mAh Battery', '5000 mAh Lithium Ion Battery', '5000 mAh Lithium Ion Battery', '5000 mAh Battery', '5000 mAh Battery', '5000 mAh Lithium Ion Battery', '5000 mAh Battery', '5000 mAh Battery', '5000 mAh Battery', '5000 mAh Battery'], 'rule_50g0': ['T612 Processor', 'T612 Processor', 'T612 Processor', 'T612 Processor', 'Helio G88 Processor', 'Helio G88 Processor', 'Helio G88 Processor', 'Mediatek Helio G99 Octa Core Processor', 'Helio G88 Processor', 'Helio G88 Processor', 'Mediatek Helio G99 Octa Core Processor', 'Unisoc T612 Processor', 'Helio G88 Processor', 'Helio G88 Processor', 'Mediatek Helio G99 Octa Core Processor', 'Unisoc T612 Processor', 'Unisoc T612 Processor', 'Helio G88 Processor', 'Helio G88 Processor', 'Unisoc T612 Processor', 'Mediatek Helio G99 Octa Core Processor', 'Qualcomm Snapdragon 695 5G Processor', 'Qualcomm Snapdragon 695 5G Processor', 'Qualcomm Snapdragon 695 5G Processor'], 'rule_kro2': ['T612 Processor', 'T612 Processor', 'T612 Processor', 'T612 Processor', 'Helio G88 Processor', 'Helio G88 Processor', 'Helio G88 Processor', 'Mediatek Helio G99 Octa Core Processor', 'Helio G88 Processor', 'Helio G88 Processor', 'Mediatek Helio G99 Octa Core Processor', 'Unisoc T612 Processor', 'Helio G88 Processor', 'Helio G88 Processor', 'Mediatek Helio G99 Octa Core Processor', 'Unisoc T612 Processor', 'Unisoc T612 Processor', 'Helio G88 Processor', 'Helio G88 Processor', 'Unisoc T612 Processor', 'Mediatek Helio G99 Octa Core Processor', 'Qualcomm Snapdragon 695 5G Processor', 'Qualcomm Snapdragon 695 5G Processor', 'Qualcomm Snapdragon 695 5G Processor'], 'rule_khpa': ['T612 Processor', 'T612 Processor', 'T612 Processor', 'T612 Processor', 'Helio G88 Processor', 'Helio G88 Processor', 'Helio G88 Processor', 'Mediatek Helio G99 Octa Core Processor', 'Helio G88 Processor', 'Helio G88 Processor', 'Mediatek Helio G99 Octa Core Processor', 'Unisoc T612 Processor', 'Helio G88 Processor', 'Helio G88 Processor', 'Mediatek Helio G99 Octa Core Processor', 'Unisoc T612 Processor', 'Unisoc T612 Processor', 'Helio G88 Processor', 'Helio G88 Processor', 'Unisoc T612 Processor', 'Mediatek Helio G99 Octa Core Processor', 'Qualcomm Snapdragon 695 5G Processor', 'Qualcomm Snapdragon 695 5G Processor', 'Qualcomm Snapdragon 695 5G Processor'], 'rule_tilq': ['T612 Processor', 'T612 Processor', 'T612 Processor', 'T612 Processor', 'Helio G88 Processor', 'Helio G88 Processor', 'Helio G88 Processor', 'Mediatek Helio G99 Octa Core Processor', 'Helio G88 Processor', 'Helio G88 Processor', 'Mediatek Helio G99 Octa Core Processor', 'Unisoc T612 Processor', 'Helio G88 Processor', 'Helio G88 Processor', 'Mediatek Helio G99 Octa Core Processor', 'Unisoc T612 Processor', 'Unisoc T612 Processor', 'Helio G88 Processor', 'Helio G88 Processor', 'Unisoc T612 Processor', 'Mediatek Helio G99 Octa Core Processor', 'Qualcomm Snapdragon 695 5G Processor', 'Qualcomm Snapdragon 695 5G Processor', 'Qualcomm Snapdragon 695 5G Processor'], 'rule_sbzx': ['1 Year Manufacturer Warranty for Phone and 6 Months Warranty for In the Box Accessories', '1 Year Manufacturer Warranty for Phone and 6 Months Warranty for In the Box Accessories', '1 Year Manufacturer Warranty for Phone and 6 Months Warranty for In the Box Accessories', '1 Year Manufacturer Warranty for Phone and 6 Months Warranty for In the Box Accessories', '1 Year Manufacturer Warranty for Phone and 6 Months Warranty for In the Box Accessories', '1 Year Manufacturer Warranty for Phone and 6 Months Warranty for In the Box Accessories', '1 Year Manufacturer Warranty for Phone and 6 Months Warranty for In the Box Accessories', '1 Year Manufacturer Warranty for Phone and 6 Months Warranty for In-Box Accessories', '1 Year Manufacturer Warranty for Phone and 6 Months Warranty for In the Box Accessories', '1 Year Manufacturer Warranty for Phone and 6 Months Warranty for In the Box Accessories', '1 Year Manufacturer Warranty for Phone and 6 Months Warranty for In-Box Accessories', '1 Year Manufacturer Warranty for Phone and 6 Months Warranty for In-Box Accessories', '1 Year Manufacturer Warranty for Phone and 6 Months Warranty for In the Box Accessories', '1 Year Manufacturer Warranty for Phone and 6 Months Warranty for In the Box Accessories', '1 Year Manufacturer Warranty for Phone and 6 Months Warranty for In-Box Accessories', '1 Year Manufacturer Warranty for Phone and 6 Months Warranty for In-Box Accessories', '1 Year Manufacturer Warranty for Phone and 6 Months Warranty for In-Box Accessories', '1 Year Manufacturer Warranty for Phone and 6 Months Warranty for In the Box Accessories', '1 Year Manufacturer Warranty for Phone and 6 Months Warranty for In the Box Accessories', '1 Year Manufacturer Warranty for Phone and 6 Months Warranty for In-Box Accessories', '1 Year Manufacturer Warranty for Phone and 6 Months Warranty for In-Box Accessories', '1 Year Manufacturer Warranty for Phone and 6 Months Warranty for In-Box Accessories', '1 Year Manufacturer Warranty for Phone and 6 Months Warranty for In-Box Accessories', '1 Year Manufacturer Warranty for Phone and 6 Months Warranty for In-Box Accessories'], 'rule_d4cp': ['1 Year Manufacturer Warranty for Phone and 6 Months Warranty for In the Box Accessories', '1 Year Manufacturer Warranty for Phone and 6 Months Warranty for In the Box Accessories', '1 Year Manufacturer Warranty for Phone and 6 Months Warranty for In the Box Accessories', '1 Year Manufacturer Warranty for Phone and 6 Months Warranty for In the Box Accessories', '1 Year Manufacturer Warranty for Phone and 6 Months Warranty for In the Box Accessories', '1 Year Manufacturer Warranty for Phone and 6 Months Warranty for In the Box Accessories', '1 Year Manufacturer Warranty for Phone and 6 Months Warranty for In the Box Accessories', '1 Year Manufacturer Warranty for Phone and 6 Months Warranty for In-Box Accessories', '1 Year Manufacturer Warranty for Phone and 6 Months Warranty for In the Box Accessories', '1 Year Manufacturer Warranty for Phone and 6 Months Warranty for In the Box Accessories', '1 Year Manufacturer Warranty for Phone and 6 Months Warranty for In-Box Accessories', '1 Year Manufacturer Warranty for Phone and 6 Months Warranty for In-Box Accessories', '1 Year Manufacturer Warranty for Phone and 6 Months Warranty for In the Box Accessories', '1 Year Manufacturer Warranty for Phone and 6 Months Warranty for In the Box Accessories', '1 Year Manufacturer Warranty for Phone and 6 Months Warranty for In-Box Accessories', '1 Year Manufacturer Warranty for Phone and 6 Months Warranty for In-Box Accessories', '1 Year Manufacturer Warranty for Phone and 6 Months Warranty for In-Box Accessories', '1 Year Manufacturer Warranty for Phone and 6 Months Warranty for In the Box Accessories', '1 Year Manufacturer Warranty for Phone and 6 Months Warranty for In the Box Accessories', '1 Year Manufacturer Warranty for Phone and 6 Months Warranty for In-Box Accessories', '1 Year Manufacturer Warranty for Phone and 6 Months Warranty for In-Box Accessories', '1 Year Manufacturer Warranty for Phone and 6 Months Warranty for In-Box Accessories', '1 Year Manufacturer Warranty for Phone and 6 Months Warranty for In-Box Accessories', '1 Year Manufacturer Warranty for Phone and 6 Months Warranty for In-Box Accessories'], 'rule_y625': ['1 Year Manufacturer Warranty for Phone and 6 Months Warranty for In the Box Accessories', '1 Year Manufacturer Warranty for Phone and 6 Months Warranty for In the Box Accessories', '1 Year Manufacturer Warranty for Phone and 6 Months Warranty for In the Box Accessories', '1 Year Manufacturer Warranty for Phone and 6 Months Warranty for In the Box Accessories', '1 Year Manufacturer Warranty for Phone and 6 Months Warranty for In the Box Accessories', '1 Year Manufacturer Warranty for Phone and 6 Months Warranty for In the Box Accessories', '1 Year Manufacturer Warranty for Phone and 6 Months Warranty for In the Box Accessories', '1 Year Manufacturer Warranty for Phone and 6 Months Warranty for In-Box Accessories', '1 Year Manufacturer Warranty for Phone and 6 Months Warranty for In the Box Accessories', '1 Year Manufacturer Warranty for Phone and 6 Months Warranty for In the Box Accessories', '1 Year Manufacturer Warranty for Phone and 6 Months Warranty for In-Box Accessories', '1 Year Manufacturer Warranty for Phone and 6 Months Warranty for In-Box Accessories', '1 Year Manufacturer Warranty for Phone and 6 Months Warranty for In the Box Accessories', '1 Year Manufacturer Warranty for Phone and 6 Months Warranty for In the Box Accessories', '1 Year Manufacturer Warranty for Phone and 6 Months Warranty for In-Box Accessories', '1 Year Manufacturer Warranty for Phone and 6 Months Warranty for In-Box Accessories', '1 Year Manufacturer Warranty for Phone and 6 Months Warranty for In-Box Accessories', '1 Year Manufacturer Warranty for Phone and 6 Months Warranty for In the Box Accessories', '1 Year Manufacturer Warranty for Phone and 6 Months Warranty for In the Box Accessories', '1 Year Manufacturer Warranty for Phone and 6 Months Warranty for In-Box Accessories', '1 Year Manufacturer Warranty for Phone and 6 Months Warranty for In-Box Accessories', '1 Year Manufacturer Warranty for Phone and 6 Months Warranty for In-Box Accessories', '1 Year Manufacturer Warranty for Phone and 6 Months Warranty for In-Box Accessories', '1 Year Manufacturer Warranty for Phone and 6 Months Warranty for In-Box Accessories'], 'rule_ttqb': ['1 Year Manufacturer Warranty for Phone and 6 Months Warranty for In the Box Accessories', '1 Year Manufacturer Warranty for Phone and 6 Months Warranty for In the Box Accessories', '1 Year Manufacturer Warranty for Phone and 6 Months Warranty for In the Box Accessories', '1 Year Manufacturer Warranty for Phone and 6 Months Warranty for In the Box Accessories', '1 Year Manufacturer Warranty for Phone and 6 Months Warranty for In the Box Accessories', '1 Year Manufacturer Warranty for Phone and 6 Months Warranty for In the Box Accessories', '1 Year Manufacturer Warranty for Phone and 6 Months Warranty for In the Box Accessories', '1 Year Manufacturer Warranty for Phone and 6 Months Warranty for In-Box Accessories', '1 Year Manufacturer Warranty for Phone and 6 Months Warranty for In the Box Accessories', '1 Year Manufacturer Warranty for Phone and 6 Months Warranty for In the Box Accessories', '1 Year Manufacturer Warranty for Phone and 6 Months Warranty for In-Box Accessories', '1 Year Manufacturer Warranty for Phone and 6 Months Warranty for In-Box Accessories', '1 Year Manufacturer Warranty for Phone and 6 Months Warranty for In the Box Accessories', '1 Year Manufacturer Warranty for Phone and 6 Months Warranty for In the Box Accessories', '1 Year Manufacturer Warranty for Phone and 6 Months Warranty for In-Box Accessories', '1 Year Manufacturer Warranty for Phone and 6 Months Warranty for In-Box Accessories', '1 Year Manufacturer Warranty for Phone and 6 Months Warranty for In-Box Accessories', '1 Year Manufacturer Warranty for Phone and 6 Months Warranty for In the Box Accessories', '1 Year Manufacturer Warranty for Phone and 6 Months Warranty for In the Box Accessories', '1 Year Manufacturer Warranty for Phone and 6 Months Warranty for In-Box Accessories', '1 Year Manufacturer Warranty for Phone and 6 Months Warranty for In-Box Accessories', '1 Year Manufacturer Warranty for Phone and 6 Months Warranty for In-Box Accessories', '1 Year Manufacturer Warranty for Phone and 6 Months Warranty for In-Box Accessories', '1 Year Manufacturer Warranty for Phone and 6 Months Warranty for In-Box Accessories'], 'rule_6fjm': ['1 Year Manufacturer Warranty for Phone and 6 Months Warranty for In the Box Accessories', '1 Year Manufacturer Warranty for Phone and 6 Months Warranty for In the Box Accessories', '1 Year Manufacturer Warranty for Phone and 6 Months Warranty for In the Box Accessories', '1 Year Manufacturer Warranty for Phone and 6 Months Warranty for In the Box Accessories', '1 Year Manufacturer Warranty for Phone and 6 Months Warranty for In the Box Accessories', '1 Year Manufacturer Warranty for Phone and 6 Months Warranty for In the Box Accessories', '1 Year Manufacturer Warranty for Phone and 6 Months Warranty for In the Box Accessories', '1 Year Manufacturer Warranty for Phone and 6 Months Warranty for In-Box Accessories', '1 Year Manufacturer Warranty for Phone and 6 Months Warranty for In the Box Accessories', '1 Year Manufacturer Warranty for Phone and 6 Months Warranty for In the Box Accessories', '1 Year Manufacturer Warranty for Phone and 6 Months Warranty for In-Box Accessories', '1 Year Manufacturer Warranty for Phone and 6 Months Warranty for In-Box Accessories', '1 Year Manufacturer Warranty for Phone and 6 Months Warranty for In the Box Accessories', '1 Year Manufacturer Warranty for Phone and 6 Months Warranty for In the Box Accessories', '1 Year Manufacturer Warranty for Phone and 6 Months Warranty for In-Box Accessories', '1 Year Manufacturer Warranty for Phone and 6 Months Warranty for In-Box Accessories', '1 Year Manufacturer Warranty for Phone and 6 Months Warranty for In-Box Accessories', '1 Year Manufacturer Warranty for Phone and 6 Months Warranty for In the Box Accessories', '1 Year Manufacturer Warranty for Phone and 6 Months Warranty for In the Box Accessories', '1 Year Manufacturer Warranty for Phone and 6 Months Warranty for In-Box Accessories', '1 Year Manufacturer Warranty for Phone and 6 Months Warranty for In-Box Accessories', '1 Year Manufacturer Warranty for Phone and 6 Months Warranty for In-Box Accessories', '1 Year Manufacturer Warranty for Phone and 6 Months Warranty for In-Box Accessories', '1 Year Manufacturer Warranty for Phone and 6 Months Warranty for In-Box Accessories'], 'rule_jrfx': ['1 Year Manufacturer Warranty for Phone and 6 Months Warranty for In the Box Accessories', '1 Year Manufacturer Warranty for Phone and 6 Months Warranty for In the Box Accessories', '1 Year Manufacturer Warranty for Phone and 6 Months Warranty for In the Box Accessories', '1 Year Manufacturer Warranty for Phone and 6 Months Warranty for In the Box Accessories', '1 Year Manufacturer Warranty for Phone and 6 Months Warranty for In the Box Accessories', '1 Year Manufacturer Warranty for Phone and 6 Months Warranty for In the Box Accessories', '1 Year Manufacturer Warranty for Phone and 6 Months Warranty for In the Box Accessories', '1 Year Manufacturer Warranty for Phone and 6 Months Warranty for In-Box Accessories', '1 Year Manufacturer Warranty for Phone and 6 Months Warranty for In the Box Accessories', '1 Year Manufacturer Warranty for Phone and 6 Months Warranty for In the Box Accessories', '1 Year Manufacturer Warranty for Phone and 6 Months Warranty for In-Box Accessories', '1 Year Manufacturer Warranty for Phone and 6 Months Warranty for In-Box Accessories', '1 Year Manufacturer Warranty for Phone and 6 Months Warranty for In the Box Accessories', '1 Year Manufacturer Warranty for Phone and 6 Months Warranty for In the Box Accessories', '1 Year Manufacturer Warranty for Phone and 6 Months Warranty for In-Box Accessories', '1 Year Manufacturer Warranty for Phone and 6 Months Warranty for In-Box Accessories', '1 Year Manufacturer Warranty for Phone and 6 Months Warranty for In-Box Accessories', '1 Year Manufacturer Warranty for Phone and 6 Months Warranty for In the Box Accessories', '1 Year Manufacturer Warranty for Phone and 6 Months Warranty for In the Box Accessories', '1 Year Manufacturer Warranty for Phone and 6 Months Warranty for In-Box Accessories', '1 Year Manufacturer Warranty for Phone and 6 Months Warranty for In-Box Accessories', '1 Year Manufacturer Warranty for Phone and 6 Months Warranty for In-Box Accessories', '1 Year Manufacturer Warranty for Phone and 6 Months Warranty for In-Box Accessories', '1 Year Manufacturer Warranty for Phone and 6 Months Warranty for In-Box Accessories'], 'rule_jg57': ['1 Year Manufacturer Warranty for Phone and 6 Months Warranty for In the Box Accessories', '1 Year Manufacturer Warranty for Phone and 6 Months Warranty for In the Box Accessories', '1 Year Manufacturer Warranty for Phone and 6 Months Warranty for In the Box Accessories', '1 Year Manufacturer Warranty for Phone and 6 Months Warranty for In the Box Accessories', '1 Year Manufacturer Warranty for Phone and 6 Months Warranty for In the Box Accessories', '1 Year Manufacturer Warranty for Phone and 6 Months Warranty for In the Box Accessories', '1 Year Manufacturer Warranty for Phone and 6 Months Warranty for In the Box Accessories', '1 Year Manufacturer Warranty for Phone and 6 Months Warranty for In-Box Accessories', '1 Year Manufacturer Warranty for Phone and 6 Months Warranty for In the Box Accessories', '1 Year Manufacturer Warranty for Phone and 6 Months Warranty for In the Box Accessories', '1 Year Manufacturer Warranty for Phone and 6 Months Warranty for In-Box Accessories', '1 Year Manufacturer Warranty for Phone and 6 Months Warranty for In-Box Accessories', '1 Year Manufacturer Warranty for Phone and 6 Months Warranty for In the Box Accessories', '1 Year Manufacturer Warranty for Phone and 6 Months Warranty for In the Box Accessories', '1 Year Manufacturer Warranty for Phone and 6 Months Warranty for In-Box Accessories', '1 Year Manufacturer Warranty for Phone and 6 Months Warranty for In-Box Accessories', '1 Year Manufacturer Warranty for Phone and 6 Months Warranty for In-Box Accessories', '1 Year Manufacturer Warranty for Phone and 6 Months Warranty for In the Box Accessories', '1 Year Manufacturer Warranty for Phone and 6 Months Warranty for In the Box Accessories', '1 Year Manufacturer Warranty for Phone and 6 Months Warranty for In-Box Accessories', '1 Year Manufacturer Warranty for Phone and 6 Months Warranty for In-Box Accessories', '1 Year Manufacturer Warranty for Phone and 6 Months Warranty for In-Box Accessories', '1 Year Manufacturer Warranty for Phone and 6 Months Warranty for In-Box Accessories', '1 Year Manufacturer Warranty for Phone and 6 Months Warranty for In-Box Accessories'], 'rule_w0m2': ['1 Year Manufacturer Warranty for Phone and 6 Months Warranty for In the Box Accessories', '1 Year Manufacturer Warranty for Phone and 6 Months Warranty for In the Box Accessories', '1 Year Manufacturer Warranty for Phone and 6 Months Warranty for In the Box Accessories', '1 Year Manufacturer Warranty for Phone and 6 Months Warranty for In the Box Accessories', '1 Year Manufacturer Warranty for Phone and 6 Months Warranty for In the Box Accessories', '1 Year Manufacturer Warranty for Phone and 6 Months Warranty for In the Box Accessories', '1 Year Manufacturer Warranty for Phone and 6 Months Warranty for In the Box Accessories', '1 Year Manufacturer Warranty for Phone and 6 Months Warranty for In-Box Accessories', '1 Year Manufacturer Warranty for Phone and 6 Months Warranty for In the Box Accessories', '1 Year Manufacturer Warranty for Phone and 6 Months Warranty for In the Box Accessories', '1 Year Manufacturer Warranty for Phone and 6 Months Warranty for In-Box Accessories', '1 Year Manufacturer Warranty for Phone and 6 Months Warranty for In-Box Accessories', '1 Year Manufacturer Warranty for Phone and 6 Months Warranty for In the Box Accessories', '1 Year Manufacturer Warranty for Phone and 6 Months Warranty for In the Box Accessories', '1 Year Manufacturer Warranty for Phone and 6 Months Warranty for In-Box Accessories', '1 Year Manufacturer Warranty for Phone and 6 Months Warranty for In-Box Accessories', '1 Year Manufacturer Warranty for Phone and 6 Months Warranty for In-Box Accessories', '1 Year Manufacturer Warranty for Phone and 6 Months Warranty for In the Box Accessories', '1 Year Manufacturer Warranty for Phone and 6 Months Warranty for In the Box Accessories', '1 Year Manufacturer Warranty for Phone and 6 Months Warranty for In-Box Accessories', '1 Year Manufacturer Warranty for Phone and 6 Months Warranty for In-Box Accessories', '1 Year Manufacturer Warranty for Phone and 6 Months Warranty for In-Box Accessories', '1 Year Manufacturer Warranty for Phone and 6 Months Warranty for In-Box Accessories', '1 Year Manufacturer Warranty for Phone and 6 Months Warranty for In-Box Accessories'], 'rule_lrbz': ['1 Year Manufacturer Warranty for Phone and 6 Months Warranty for In the Box Accessories', '1 Year Manufacturer Warranty for Phone and 6 Months Warranty for In the Box Accessories', '1 Year Manufacturer Warranty for Phone and 6 Months Warranty for In the Box Accessories', '1 Year Manufacturer Warranty for Phone and 6 Months Warranty for In the Box Accessories', '1 Year Manufacturer Warranty for Phone and 6 Months Warranty for In the Box Accessories', '1 Year Manufacturer Warranty for Phone and 6 Months Warranty for In the Box Accessories', '1 Year Manufacturer Warranty for Phone and 6 Months Warranty for In the Box Accessories', '1 Year Manufacturer Warranty for Phone and 6 Months Warranty for In-Box Accessories', '1 Year Manufacturer Warranty for Phone and 6 Months Warranty for In the Box Accessories', '1 Year Manufacturer Warranty for Phone and 6 Months Warranty for In the Box Accessories', '1 Year Manufacturer Warranty for Phone and 6 Months Warranty for In-Box Accessories', '1 Year Manufacturer Warranty for Phone and 6 Months Warranty for In-Box Accessories', '1 Year Manufacturer Warranty for Phone and 6 Months Warranty for In the Box Accessories', '1 Year Manufacturer Warranty for Phone and 6 Months Warranty for In the Box Accessories', '1 Year Manufacturer Warranty for Phone and 6 Months Warranty for In-Box Accessories', '1 Year Manufacturer Warranty for Phone and 6 Months Warranty for In-Box Accessories', '1 Year Manufacturer Warranty for Phone and 6 Months Warranty for In-Box Accessories', '1 Year Manufacturer Warranty for Phone and 6 Months Warranty for In the Box Accessories', '1 Year Manufacturer Warranty for Phone and 6 Months Warranty for In the Box Accessories', '1 Year Manufacturer Warranty for Phone and 6 Months Warranty for In-Box Accessories', '1 Year Manufacturer Warranty for Phone and 6 Months Warranty for In-Box Accessories', '1 Year Manufacturer Warranty for Phone and 6 Months Warranty for In-Box Accessories', '1 Year Manufacturer Warranty for Phone and 6 Months Warranty for In-Box Accessories', '1 Year Manufacturer Warranty for Phone and 6 Months Warranty for In-Box Accessories'], 'rule_0r7c': ['1 Year Manufacturer Warranty for Phone and 6 Months Warranty for In the Box Accessories', '1 Year Manufacturer Warranty for Phone and 6 Months Warranty for In the Box Accessories', '1 Year Manufacturer Warranty for Phone and 6 Months Warranty for In the Box Accessories', '1 Year Manufacturer Warranty for Phone and 6 Months Warranty for In the Box Accessories', '1 Year Manufacturer Warranty for Phone and 6 Months Warranty for In the Box Accessories', '1 Year Manufacturer Warranty for Phone and 6 Months Warranty for In the Box Accessories', '1 Year Manufacturer Warranty for Phone and 6 Months Warranty for In the Box Accessories', '1 Year Manufacturer Warranty for Phone and 6 Months Warranty for In-Box Accessories', '1 Year Manufacturer Warranty for Phone and 6 Months Warranty for In the Box Accessories', '1 Year Manufacturer Warranty for Phone and 6 Months Warranty for In the Box Accessories', '1 Year Manufacturer Warranty for Phone and 6 Months Warranty for In-Box Accessories', '1 Year Manufacturer Warranty for Phone and 6 Months Warranty for In-Box Accessories', '1 Year Manufacturer Warranty for Phone and 6 Months Warranty for In the Box Accessories', '1 Year Manufacturer Warranty for Phone and 6 Months Warranty for In the Box Accessories', '1 Year Manufacturer Warranty for Phone and 6 Months Warranty for In-Box Accessories', '1 Year Manufacturer Warranty for Phone and 6 Months Warranty for In-Box Accessories', '1 Year Manufacturer Warranty for Phone and 6 Months Warranty for In-Box Accessories', '1 Year Manufacturer Warranty for Phone and 6 Months Warranty for In the Box Accessories', '1 Year Manufacturer Warranty for Phone and 6 Months Warranty for In the Box Accessories', '1 Year Manufacturer Warranty for Phone and 6 Months Warranty for In-Box Accessories', '1 Year Manufacturer Warranty for Phone and 6 Months Warranty for In-Box Accessories', '1 Year Manufacturer Warranty for Phone and 6 Months Warranty for In-Box Accessories', '1 Year Manufacturer Warranty for Phone and 6 Months Warranty for In-Box Accessories', '1 Year Manufacturer Warranty for Phone and 6 Months Warranty for In-Box Accessories'], 'rule_rp0e': ['1 Year Manufacturer Warranty for Phone and 6 Months Warranty for In the Box Accessories', '1 Year Manufacturer Warranty for Phone and 6 Months Warranty for In the Box Accessories', '1 Year Manufacturer Warranty for Phone and 6 Months Warranty for In the Box Accessories', '1 Year Manufacturer Warranty for Phone and 6 Months Warranty for In the Box Accessories', '1 Year Manufacturer Warranty for Phone and 6 Months Warranty for In the Box Accessories', '1 Year Manufacturer Warranty for Phone and 6 Months Warranty for In the Box Accessories', '1 Year Manufacturer Warranty for Phone and 6 Months Warranty for In the Box Accessories', '1 Year Manufacturer Warranty for Phone and 6 Months Warranty for In-Box Accessories', '1 Year Manufacturer Warranty for Phone and 6 Months Warranty for In the Box Accessories', '1 Year Manufacturer Warranty for Phone and 6 Months Warranty for In the Box Accessories', '1 Year Manufacturer Warranty for Phone and 6 Months Warranty for In-Box Accessories', '1 Year Manufacturer Warranty for Phone and 6 Months Warranty for In-Box Accessories', '1 Year Manufacturer Warranty for Phone and 6 Months Warranty for In the Box Accessories', '1 Year Manufacturer Warranty for Phone and 6 Months Warranty for In the Box Accessories', '1 Year Manufacturer Warranty for Phone and 6 Months Warranty for In-Box Accessories', '1 Year Manufacturer Warranty for Phone and 6 Months Warranty for In-Box Accessories', '1 Year Manufacturer Warranty for Phone and 6 Months Warranty for In-Box Accessories', '1 Year Manufacturer Warranty for Phone and 6 Months Warranty for In the Box Accessories', '1 Year Manufacturer Warranty for Phone and 6 Months Warranty for In the Box Accessories', '1 Year Manufacturer Warranty for Phone and 6 Months Warranty for In-Box Accessories', '1 Year Manufacturer Warranty for Phone and 6 Months Warranty for In-Box Accessories', '1 Year Manufacturer Warranty for Phone and 6 Months Warranty for In-Box Accessories', '1 Year Manufacturer Warranty for Phone and 6 Months Warranty for In-Box Accessories', '1 Year Manufacturer Warranty for Phone and 6 Months Warranty for In-Box Accessories'], 'rule_6a91': ['1 Year Manufacturer Warranty for Phone and 6 Months Warranty for In the Box Accessories', '1 Year Manufacturer Warranty for Phone and 6 Months Warranty for In the Box Accessories', '1 Year Manufacturer Warranty for Phone and 6 Months Warranty for In the Box Accessories', '1 Year Manufacturer Warranty for Phone and 6 Months Warranty for In the Box Accessories', '1 Year Manufacturer Warranty for Phone and 6 Months Warranty for In the Box Accessories', '1 Year Manufacturer Warranty for Phone and 6 Months Warranty for In the Box Accessories', '1 Year Manufacturer Warranty for Phone and 6 Months Warranty for In the Box Accessories', '1 Year Manufacturer Warranty for Phone and 6 Months Warranty for In-Box Accessories', '1 Year Manufacturer Warranty for Phone and 6 Months Warranty for In the Box Accessories', '1 Year Manufacturer Warranty for Phone and 6 Months Warranty for In the Box Accessories', '1 Year Manufacturer Warranty for Phone and 6 Months Warranty for In-Box Accessories', '1 Year Manufacturer Warranty for Phone and 6 Months Warranty for In-Box Accessories', '1 Year Manufacturer Warranty for Phone and 6 Months Warranty for In the Box Accessories', '1 Year Manufacturer Warranty for Phone and 6 Months Warranty for In the Box Accessories', '1 Year Manufacturer Warranty for Phone and 6 Months Warranty for In-Box Accessories', '1 Year Manufacturer Warranty for Phone and 6 Months Warranty for In-Box Accessories', '1 Year Manufacturer Warranty for Phone and 6 Months Warranty for In-Box Accessories', '1 Year Manufacturer Warranty for Phone and 6 Months Warranty for In the Box Accessories', '1 Year Manufacturer Warranty for Phone and 6 Months Warranty for In the Box Accessories', '1 Year Manufacturer Warranty for Phone and 6 Months Warranty for In-Box Accessories', '1 Year Manufacturer Warranty for Phone and 6 Months Warranty for In-Box Accessories', '1 Year Manufacturer Warranty for Phone and 6 Months Warranty for In-Box Accessories', '1 Year Manufacturer Warranty for Phone and 6 Months Warranty for In-Box Accessories', '1 Year Manufacturer Warranty for Phone and 6 Months Warranty for In-Box Accessories'], 'rule_g0iz': ['1 Year Manufacturer Warranty for Phone and 6 Months Warranty for In the Box Accessories', '1 Year Manufacturer Warranty for Phone and 6 Months Warranty for In the Box Accessories', '1 Year Manufacturer Warranty for Phone and 6 Months Warranty for In the Box Accessories', '1 Year Manufacturer Warranty for Phone and 6 Months Warranty for In the Box Accessories', '1 Year Manufacturer Warranty for Phone and 6 Months Warranty for In the Box Accessories', '1 Year Manufacturer Warranty for Phone and 6 Months Warranty for In the Box Accessories', '1 Year Manufacturer Warranty for Phone and 6 Months Warranty for In the Box Accessories', '1 Year Manufacturer Warranty for Phone and 6 Months Warranty for In-Box Accessories', '1 Year Manufacturer Warranty for Phone and 6 Months Warranty for In the Box Accessories', '1 Year Manufacturer Warranty for Phone and 6 Months Warranty for In the Box Accessories', '1 Year Manufacturer Warranty for Phone and 6 Months Warranty for In-Box Accessories', '1 Year Manufacturer Warranty for Phone and 6 Months Warranty for In-Box Accessories', '1 Year Manufacturer Warranty for Phone and 6 Months Warranty for In the Box Accessories', '1 Year Manufacturer Warranty for Phone and 6 Months Warranty for In the Box Accessories', '1 Year Manufacturer Warranty for Phone and 6 Months Warranty for In-Box Accessories', '1 Year Manufacturer Warranty for Phone and 6 Months Warranty for In-Box Accessories', '1 Year Manufacturer Warranty for Phone and 6 Months Warranty for In-Box Accessories', '1 Year Manufacturer Warranty for Phone and 6 Months Warranty for In the Box Accessories', '1 Year Manufacturer Warranty for Phone and 6 Months Warranty for In the Box Accessories', '1 Year Manufacturer Warranty for Phone and 6 Months Warranty for In-Box Accessories', '1 Year Manufacturer Warranty for Phone and 6 Months Warranty for In-Box Accessories', '1 Year Manufacturer Warranty for Phone and 6 Months Warranty for In-Box Accessories', '1 Year Manufacturer Warranty for Phone and 6 Months Warranty for In-Box Accessories', '1 Year Manufacturer Warranty for Phone and 6 Months Warranty for In-Box Accessories'], 'rule_jey0': ['https://rukminim2.flixcart.com/image/312/312/xif0q/mobile/h/h/d/-original-imags487gaqqhcea.jpeg?q=70', 'https://rukminim2.flixcart.com/image/312/312/xif0q/mobile/h/h/d/-original-imags487gaqqhcea.jpeg?q=70', 'https://rukminim2.flixcart.com/image/312/312/xif0q/mobile/5/q/6/-original-imags487ftf3g2s7.jpeg?q=70', 'https://rukminim2.flixcart.com/image/312/312/xif0q/mobile/5/q/6/-original-imags487ftf3g2s7.jpeg?q=70', 'https://rukminim2.flixcart.com/image/312/312/xif0q/mobile/8/d/b/-original-imagp9s9wfzp8ghf.jpeg?q=70', 'https://rukminim2.flixcart.com/image/312/312/xif0q/mobile/8/d/b/-original-imagp9s9wfzp8ghf.jpeg?q=70', 'https://rukminim2.flixcart.com/image/312/312/xif0q/mobile/8/d/b/-original-imagp9s9wfzp8ghf.jpeg?q=70', 'https://rukminim2.flixcart.com/image/312/312/xif0q/mobile/1/7/l/-original-imaghgcj2z5cfugg.jpeg?q=70', 'https://rukminim2.flixcart.com/image/312/312/xif0q/mobile/z/x/x/-original-imagp55frhhddu6n.jpeg?q=70', 'https://rukminim2.flixcart.com/image/312/312/xif0q/mobile/a/l/m/-original-imagp55fu6uq2jch.jpeg?q=70', 'https://rukminim2.flixcart.com/image/312/312/xif0q/mobile/9/l/3/-original-imaghgcktmwxthzc.jpeg?q=70', 'https://rukminim2.flixcart.com/image/312/312/l4ln8nk0/mobile/p/h/p/-original-imagfggryyzyvhgw.jpeg?q=70', 'https://rukminim2.flixcart.com/image/312/312/xif0q/mobile/a/l/m/-original-imagp55fu6uq2jch.jpeg?q=70', 'https://rukminim2.flixcart.com/image/312/312/xif0q/mobile/z/x/x/-original-imagp55frhhddu6n.jpeg?q=70', 'https://rukminim2.flixcart.com/image/312/312/xif0q/mobile/9/l/3/-original-imaghgcktmwxthzc.jpeg?q=70', 'https://rukminim2.flixcart.com/image/312/312/l4ln8nk0/mobile/f/6/a/-original-imagfggrbywzk8r6.jpeg?q=70', 'https://rukminim2.flixcart.com/image/312/312/l4ln8nk0/mobile/4/8/h/-original-imagfggrvjdqsrtx.jpeg?q=70', 'https://rukminim2.flixcart.com/image/312/312/xif0q/mobile/a/l/m/-original-imagp55fu6uq2jch.jpeg?q=70', 'https://rukminim2.flixcart.com/image/312/312/xif0q/mobile/z/x/x/-original-imagp55frhhddu6n.jpeg?q=70', 'https://rukminim2.flixcart.com/image/312/312/l4ln8nk0/mobile/f/6/a/-original-imagfggrbywzk8r6.jpeg?q=70', 'https://rukminim2.flixcart.com/image/312/312/xif0q/mobile/1/7/l/-original-imaghgcj2z5cfugg.jpeg?q=70', 'https://rukminim2.flixcart.com/image/312/312/xif0q/mobile/8/u/s/-original-imagkp8yreabrzh2.jpeg?q=70', 'https://rukminim2.flixcart.com/image/312/312/xif0q/mobile/y/z/r/-original-imagkp8yzvqffyhc.jpeg?q=70', 'https://rukminim2.flixcart.com/image/312/312/xif0q/mobile/y/z/r/-original-imagkp8yzvqffyhc.jpeg?q=70'], 'rule_uudp': ['https://rukminim2.flixcart.com/image/312/312/xif0q/mobile/h/h/d/-original-imags487gaqqhcea.jpeg?q=70', 'https://rukminim2.flixcart.com/image/312/312/xif0q/mobile/h/h/d/-original-imags487gaqqhcea.jpeg?q=70', 'https://rukminim2.flixcart.com/image/312/312/xif0q/mobile/5/q/6/-original-imags487ftf3g2s7.jpeg?q=70', 'https://rukminim2.flixcart.com/image/312/312/xif0q/mobile/5/q/6/-original-imags487ftf3g2s7.jpeg?q=70', 'https://rukminim2.flixcart.com/image/312/312/xif0q/mobile/8/d/b/-original-imagp9s9wfzp8ghf.jpeg?q=70', 'https://rukminim2.flixcart.com/image/312/312/xif0q/mobile/8/d/b/-original-imagp9s9wfzp8ghf.jpeg?q=70', 'https://rukminim2.flixcart.com/image/312/312/xif0q/mobile/8/d/b/-original-imagp9s9wfzp8ghf.jpeg?q=70', 'https://rukminim2.flixcart.com/image/312/312/xif0q/mobile/1/7/l/-original-imaghgcj2z5cfugg.jpeg?q=70', 'https://rukminim2.flixcart.com/image/312/312/xif0q/mobile/z/x/x/-original-imagp55frhhddu6n.jpeg?q=70', 'https://rukminim2.flixcart.com/image/312/312/xif0q/mobile/a/l/m/-original-imagp55fu6uq2jch.jpeg?q=70', 'https://rukminim2.flixcart.com/image/312/312/xif0q/mobile/9/l/3/-original-imaghgcktmwxthzc.jpeg?q=70', 'https://rukminim2.flixcart.com/image/312/312/l4ln8nk0/mobile/p/h/p/-original-imagfggryyzyvhgw.jpeg?q=70', 'https://rukminim2.flixcart.com/image/312/312/xif0q/mobile/a/l/m/-original-imagp55fu6uq2jch.jpeg?q=70', 'https://rukminim2.flixcart.com/image/312/312/xif0q/mobile/z/x/x/-original-imagp55frhhddu6n.jpeg?q=70', 'https://rukminim2.flixcart.com/image/312/312/xif0q/mobile/9/l/3/-original-imaghgcktmwxthzc.jpeg?q=70', 'https://rukminim2.flixcart.com/image/312/312/l4ln8nk0/mobile/f/6/a/-original-imagfggrbywzk8r6.jpeg?q=70', 'https://rukminim2.flixcart.com/image/312/312/l4ln8nk0/mobile/4/8/h/-original-imagfggrvjdqsrtx.jpeg?q=70', 'https://rukminim2.flixcart.com/image/312/312/xif0q/mobile/a/l/m/-original-imagp55fu6uq2jch.jpeg?q=70', 'https://rukminim2.flixcart.com/image/312/312/xif0q/mobile/z/x/x/-original-imagp55frhhddu6n.jpeg?q=70', 'https://rukminim2.flixcart.com/image/312/312/l4ln8nk0/mobile/f/6/a/-original-imagfggrbywzk8r6.jpeg?q=70', 'https://rukminim2.flixcart.com/image/312/312/xif0q/mobile/1/7/l/-original-imaghgcj2z5cfugg.jpeg?q=70', 'https://rukminim2.flixcart.com/image/312/312/xif0q/mobile/8/u/s/-original-imagkp8yreabrzh2.jpeg?q=70', 'https://rukminim2.flixcart.com/image/312/312/xif0q/mobile/y/z/r/-original-imagkp8yzvqffyhc.jpeg?q=70', 'https://rukminim2.flixcart.com/image/312/312/xif0q/mobile/y/z/r/-original-imagkp8yzvqffyhc.jpeg?q=70']}\n"
     ]
    }
   ],
   "source": [
    "scraper=AutoScraper()\n",
    "result=scraper.build(url, wanted_list)\n",
    "data = scraper.get_result_similar(url, grouped=True)\n",
    "print(data)"
   ]
  },
  {
   "cell_type": "code",
   "execution_count": 7,
   "id": "626c3ac8",
   "metadata": {},
   "outputs": [
    {
     "name": "stdout",
     "output_type": "stream",
     "text": [
      "['rule_zuna', 'rule_s3ti', 'rule_75pt', 'rule_2cde', 'rule_yuvg', 'rule_s48g', 'rule_yce8', 'rule_1wf7', 'rule_yeu5', 'rule_coh1', 'rule_kppu', 'rule_53wd', 'rule_m21w', 'rule_oeut', 'rule_neg0', 'rule_sd56', 'rule_qvqg', 'rule_9f6p', 'rule_hvd2', 'rule_bqus', 'rule_0rcc', 'rule_eczl', 'rule_s5pk', 'rule_4q2l', 'rule_4xa4', 'rule_f7kk', 'rule_q6ts', 'rule_q23d', 'rule_59iu', 'rule_k7n9', 'rule_ovwh', 'rule_yig9', 'rule_dc43', 'rule_pwxm', 'rule_cgnx', 'rule_u1xi', 'rule_6vr3', 'rule_rxoe', 'rule_pwq0', 'rule_h699', 'rule_ncb6', 'rule_xogo', 'rule_pgdi', 'rule_jy3x', 'rule_p172', 'rule_tebz', 'rule_p4dd', 'rule_870e', 'rule_lhur', 'rule_ubp3', 'rule_3yjp', 'rule_fxro', 'rule_b1su', 'rule_w9d7', 'rule_qt90', 'rule_h4fs', 'rule_t90n', 'rule_t0iy', 'rule_50g0', 'rule_kro2', 'rule_khpa', 'rule_tilq', 'rule_sbzx', 'rule_d4cp', 'rule_y625', 'rule_ttqb', 'rule_6fjm', 'rule_jrfx', 'rule_jg57', 'rule_w0m2', 'rule_lrbz', 'rule_0r7c', 'rule_rp0e', 'rule_6a91', 'rule_g0iz', 'rule_jey0', 'rule_uudp']\n",
      "77\n"
     ]
    }
   ],
   "source": [
    "keys = list(data.keys())\n",
    "print(keys)\n",
    "print(len(keys))"
   ]
  },
  {
   "cell_type": "code",
   "execution_count": 16,
   "id": "bcbe8839",
   "metadata": {},
   "outputs": [
    {
     "name": "stdout",
     "output_type": "stream",
     "text": [
      "['rule_zuna', 'rule_75pt', 'rule_53wd', 'rule_9f6p', 'rule_0rcc', 'rule_4q2l', 'rule_q6ts', 'rule_dc43', 'rule_pwq0', 'rule_50g0', 'rule_sbzx', 'rule_jey0'] 12\n"
     ]
    }
   ],
   "source": [
    "new_data = dict()\n",
    "new_data[str(keys[0])] = data[str(keys[0])] + data[str(keys[1])]\n",
    "new_data[str(keys[2])] = data[str(keys[2])] + data[str(keys[3])] + data[str(keys[4])] + data[str(keys[5])] +  data[str(keys[6])] + data[str(keys[7])] + data[str(keys[8])] + data[str(keys[9])] +  data[str(keys[10])]\n",
    "new_data[str(keys[11])] =  data[str(keys[11])] + data[str(keys[12])] +  data[str(keys[13])] + data[str(keys[14])] +  data[str(keys[15])] + data[str(keys[16])]\n",
    "new_data[str(keys[17])] =  data[str(keys[17])] + data[str(keys[18])] + data[str(keys[19])]\n",
    "new_data[str(keys[20])] = data[str(keys[20])] + data[str(keys[21])] + data[str(keys[22])]\n",
    "new_data[str(keys[23])] = data[str(keys[23])] + data[str(keys[24])] + data[str(keys[25])]\n",
    "new_data[str(keys[26])] = data[str(keys[26])] + data[str(keys[27])] + data[str(keys[28])] + data[str(keys[29])] + data[str(keys[30])] + data[str(keys[31])]\n",
    "new_data[str(keys[32])] = data[str(keys[32])] + data[str(keys[33])] + data[str(keys[34])] + data[str(keys[35])] + data[str(keys[36])] + data[str(keys[37])]\n",
    "new_data[str(keys[38])] = data[str(keys[38])] + data[str(keys[39])] + data[str(keys[40])] + data[str(keys[41])] + data[str(keys[42])] + data[str(keys[43])] + data[str(keys[44])] + data[str(keys[45])] + data[str(keys[46])] + data[str(keys[47])] + data[str(keys[48])] + data[str(keys[49])] + data[str(keys[50])] + data[str(keys[51])] + data[str(keys[52])] +data[str(keys[53])] + data[str(keys[54])] + data[str(keys[55])] + data[str(keys[56])] + data[str(keys[57])]\n",
    "new_data[str(keys[58])] = data[str(keys[58])] + data[str(keys[59])] + data[str(keys[60])] + data[str(keys[61])]\n",
    "new_data[str(keys[62])] = data[str(keys[63])] + data[str(keys[64])] + data[str(keys[65])] + data[str(keys[66])] + data[str(keys[67])] + data[str(keys[68])] + data[str(keys[69])] + data[str(keys[70])] + data[str(keys[71])] + data[str(keys[72])] + data[str(keys[73])] + data[str(keys[74])] + data[str(keys[75])]\n",
    "new_data[str(keys[75])] = data[str(keys[75])] + data[str(keys[76])]\n",
    "new_scraper = new_data\n",
    "new_keys = list(new_data.keys())\n",
    "print(new_keys, len(new_keys))\n",
    "# print(new_scraper)"
   ]
  },
  {
   "cell_type": "code",
   "execution_count": 19,
   "id": "2a20b911",
   "metadata": {},
   "outputs": [],
   "source": [
    "new_scraper = AutoScraper(new_scraper)\n",
    "# print(new_scraper)"
   ]
  },
  {
   "cell_type": "code",
   "execution_count": 22,
   "id": "d33b82f0",
   "metadata": {},
   "outputs": [],
   "source": [
    "scraper.set_rule_aliases({str(new_keys[0]):'Name',str(new_keys[1]):'Price',str(new_keys[2]):'Stars',\n",
    "                              str(new_keys[3]):'Ratings', str(new_keys[4]):'Reviews', str(new_keys[5]): 'Info1',\n",
    "                             str(new_keys[6]): 'Info2', str(new_keys[7]): 'Info3', str(new_keys[8]): 'Info4', str(new_keys[9]): 'Info5',\n",
    "                             str(new_keys[10]): 'Info6', str(new_keys[11]): 'ImageURL' })"
   ]
  },
  {
   "cell_type": "code",
   "execution_count": 23,
   "id": "46d0d258",
   "metadata": {},
   "outputs": [],
   "source": [
    "scraper.save(\"search.json\")"
   ]
  },
  {
   "cell_type": "code",
   "execution_count": 25,
   "id": "eaf5afa8",
   "metadata": {},
   "outputs": [],
   "source": [
    "flipkart_scraper = AutoScraper()\n",
    "flipkart_scraper.load('search.json')"
   ]
  },
  {
   "cell_type": "code",
   "execution_count": 26,
   "id": "27b92e4f",
   "metadata": {},
   "outputs": [],
   "source": [
    "search = \"samsung phones\"\n",
    "flipkart_url = \"https://www.flipkart.com/search?q={}\".format(search)\n",
    "\n",
    "data = flipkart_scraper.get_result_similar(flipkart_url, group_by_alias=True)\n",
    "search_data = tuple(zip(data['Name'], data['Price'], data['Stars'], data['Ratings'], data['Reviews'],\n",
    "                        data['Info1'], data['Info2'], data['Info3'], data['Info4'], data['Info5'], data['Info6'],\n",
    "                        data['ImageURL']))"
   ]
  },
  {
   "cell_type": "code",
   "execution_count": 27,
   "id": "1cf614e7",
   "metadata": {},
   "outputs": [],
   "source": [
    "df = pd.DataFrame(columns=['Query','Name','Price', 'Stars', 'Ratings','Reviews',\n",
    "                           'Info1', 'Info2', 'Info3', 'Info4', 'Info5', 'Info6',  'ImageURL'])\n",
    "for i in range(len(search_data)):\n",
    "    df.loc[len(df)] = [search,search_data[i][0],search_data[i][1],search_data[i][2],search_data[i][3],\n",
    "                          search_data[i][4],search_data[i][5],search_data[i][6],search_data[i][7],\n",
    "                          search_data[i][8],search_data[i][9],search_data[i][10],search_data[i][11],]"
   ]
  },
  {
   "cell_type": "code",
   "execution_count": 28,
   "id": "3d7a03ed",
   "metadata": {},
   "outputs": [
    {
     "name": "stdout",
     "output_type": "stream",
     "text": [
      "(5, 13)\n"
     ]
    },
    {
     "data": {
      "text/html": [
       "<div>\n",
       "<style scoped>\n",
       "    .dataframe tbody tr th:only-of-type {\n",
       "        vertical-align: middle;\n",
       "    }\n",
       "\n",
       "    .dataframe tbody tr th {\n",
       "        vertical-align: top;\n",
       "    }\n",
       "\n",
       "    .dataframe thead th {\n",
       "        text-align: right;\n",
       "    }\n",
       "</style>\n",
       "<table border=\"1\" class=\"dataframe\">\n",
       "  <thead>\n",
       "    <tr style=\"text-align: right;\">\n",
       "      <th></th>\n",
       "      <th>Query</th>\n",
       "      <th>Name</th>\n",
       "      <th>Price</th>\n",
       "      <th>Stars</th>\n",
       "      <th>Ratings</th>\n",
       "      <th>Reviews</th>\n",
       "      <th>Info1</th>\n",
       "      <th>Info2</th>\n",
       "      <th>Info3</th>\n",
       "      <th>Info4</th>\n",
       "      <th>Info5</th>\n",
       "      <th>Info6</th>\n",
       "      <th>ImageURL</th>\n",
       "    </tr>\n",
       "  </thead>\n",
       "  <tbody>\n",
       "    <tr>\n",
       "      <th>0</th>\n",
       "      <td>samsung phones</td>\n",
       "      <td>SAMSUNG Galaxy F13 (Sunrise Copper, 64 GB)</td>\n",
       "      <td>₹8,499</td>\n",
       "      <td>4.2</td>\n",
       "      <td>37,414 Ratings</td>\n",
       "      <td>2,110 Reviews</td>\n",
       "      <td>4 GB RAM | 64 GB ROM | Expandable Upto 1 TB</td>\n",
       "      <td>16.51 cm (6.5 inch) HD Display</td>\n",
       "      <td>13MP + 2MP | 5MP Front Camera</td>\n",
       "      <td>6000 mAh Lithium Ion Battery</td>\n",
       "      <td>Exynos 850 Processor</td>\n",
       "      <td>1 Year Warranty Provided By the Manufacturer f...</td>\n",
       "      <td>https://rukminim2.flixcart.com/image/312/312/x...</td>\n",
       "    </tr>\n",
       "    <tr>\n",
       "      <th>1</th>\n",
       "      <td>samsung phones</td>\n",
       "      <td>SAMSUNG Galaxy F13 (Nightsky Green, 64 GB)</td>\n",
       "      <td>₹13,990</td>\n",
       "      <td>4.2</td>\n",
       "      <td>11,227 Ratings</td>\n",
       "      <td>850 Reviews</td>\n",
       "      <td>4 GB RAM | 128 GB ROM | Expandable Upto 1 TB</td>\n",
       "      <td>16.76 cm (6.6 inch) Full HD+ Display</td>\n",
       "      <td>50MP + 2MP | 13MP Front Camera</td>\n",
       "      <td>6000 mAh Lithium Ion Battery</td>\n",
       "      <td>Exynos 850 Processor</td>\n",
       "      <td>1 Year Warranty Provided By the Manufacturer f...</td>\n",
       "      <td>https://rukminim2.flixcart.com/image/312/312/x...</td>\n",
       "    </tr>\n",
       "    <tr>\n",
       "      <th>2</th>\n",
       "      <td>samsung phones</td>\n",
       "      <td>SAMSUNG Galaxy F04 (Jade Purple, 64 GB)</td>\n",
       "      <td>₹16,999</td>\n",
       "      <td>4.3</td>\n",
       "      <td>2,04,853 Ratings</td>\n",
       "      <td>15,627 Reviews</td>\n",
       "      <td>6 GB RAM | 128 GB ROM | Expandable Upto 1 TB</td>\n",
       "      <td>16.76 cm (6.6 inch) Full HD+ Display</td>\n",
       "      <td>50MP + 8MP + 2MP | 8MP Front Camera</td>\n",
       "      <td>5000 mAh Lithium-Ion Battery</td>\n",
       "      <td>Mediatek Helio P35 Processor</td>\n",
       "      <td>1 Year Manufacturer Warranty for Device and 6 ...</td>\n",
       "      <td>https://rukminim2.flixcart.com/image/312/312/x...</td>\n",
       "    </tr>\n",
       "    <tr>\n",
       "      <th>3</th>\n",
       "      <td>samsung phones</td>\n",
       "      <td>SAMSUNG Galaxy F13 (Waterfall Blue, 64 GB)</td>\n",
       "      <td>₹39,999</td>\n",
       "      <td>4.3</td>\n",
       "      <td>67,485 Ratings</td>\n",
       "      <td>6,622 Reviews</td>\n",
       "      <td>8 GB RAM | 128 GB ROM</td>\n",
       "      <td>16.26 cm (6.4 inch) Full HD+ Display</td>\n",
       "      <td>12MP + 12MP + 8MP (OIS) | 32MP Front Camera</td>\n",
       "      <td>6000 mAh Lithium Ion Battery</td>\n",
       "      <td>Exynos 850 Processor</td>\n",
       "      <td>1 Year Warranty Provided By the Manufacturer f...</td>\n",
       "      <td>https://rukminim2.flixcart.com/image/312/312/x...</td>\n",
       "    </tr>\n",
       "    <tr>\n",
       "      <th>4</th>\n",
       "      <td>samsung phones</td>\n",
       "      <td>SAMSUNG Galaxy F13 (Waterfall Blue, 128 GB)</td>\n",
       "      <td>₹15,399</td>\n",
       "      <td>4.2</td>\n",
       "      <td>2,320 Ratings</td>\n",
       "      <td>166 Reviews</td>\n",
       "      <td>6 GB RAM | 128 GB ROM</td>\n",
       "      <td>16.76 cm (6.6 inch) Display</td>\n",
       "      <td>50MP Rear Camera</td>\n",
       "      <td>6000 mAh Lithium Ion Battery</td>\n",
       "      <td>Exynos 850 Processor</td>\n",
       "      <td>1 Year Warranty Provided By the Manufacturer f...</td>\n",
       "      <td>https://rukminim2.flixcart.com/image/312/312/x...</td>\n",
       "    </tr>\n",
       "  </tbody>\n",
       "</table>\n",
       "</div>"
      ],
      "text/plain": [
       "            Query                                         Name    Price Stars  \\\n",
       "0  samsung phones   SAMSUNG Galaxy F13 (Sunrise Copper, 64 GB)   ₹8,499   4.2   \n",
       "1  samsung phones   SAMSUNG Galaxy F13 (Nightsky Green, 64 GB)  ₹13,990   4.2   \n",
       "2  samsung phones      SAMSUNG Galaxy F04 (Jade Purple, 64 GB)  ₹16,999   4.3   \n",
       "3  samsung phones   SAMSUNG Galaxy F13 (Waterfall Blue, 64 GB)  ₹39,999   4.3   \n",
       "4  samsung phones  SAMSUNG Galaxy F13 (Waterfall Blue, 128 GB)  ₹15,399   4.2   \n",
       "\n",
       "            Ratings         Reviews  \\\n",
       "0    37,414 Ratings   2,110 Reviews   \n",
       "1    11,227 Ratings     850 Reviews   \n",
       "2  2,04,853 Ratings  15,627 Reviews   \n",
       "3    67,485 Ratings   6,622 Reviews   \n",
       "4     2,320 Ratings     166 Reviews   \n",
       "\n",
       "                                          Info1  \\\n",
       "0   4 GB RAM | 64 GB ROM | Expandable Upto 1 TB   \n",
       "1  4 GB RAM | 128 GB ROM | Expandable Upto 1 TB   \n",
       "2  6 GB RAM | 128 GB ROM | Expandable Upto 1 TB   \n",
       "3                         8 GB RAM | 128 GB ROM   \n",
       "4                         6 GB RAM | 128 GB ROM   \n",
       "\n",
       "                                  Info2  \\\n",
       "0        16.51 cm (6.5 inch) HD Display   \n",
       "1  16.76 cm (6.6 inch) Full HD+ Display   \n",
       "2  16.76 cm (6.6 inch) Full HD+ Display   \n",
       "3  16.26 cm (6.4 inch) Full HD+ Display   \n",
       "4           16.76 cm (6.6 inch) Display   \n",
       "\n",
       "                                         Info3                         Info4  \\\n",
       "0                13MP + 2MP | 5MP Front Camera  6000 mAh Lithium Ion Battery   \n",
       "1               50MP + 2MP | 13MP Front Camera  6000 mAh Lithium Ion Battery   \n",
       "2          50MP + 8MP + 2MP | 8MP Front Camera  5000 mAh Lithium-Ion Battery   \n",
       "3  12MP + 12MP + 8MP (OIS) | 32MP Front Camera  6000 mAh Lithium Ion Battery   \n",
       "4                             50MP Rear Camera  6000 mAh Lithium Ion Battery   \n",
       "\n",
       "                          Info5  \\\n",
       "0          Exynos 850 Processor   \n",
       "1          Exynos 850 Processor   \n",
       "2  Mediatek Helio P35 Processor   \n",
       "3          Exynos 850 Processor   \n",
       "4          Exynos 850 Processor   \n",
       "\n",
       "                                               Info6  \\\n",
       "0  1 Year Warranty Provided By the Manufacturer f...   \n",
       "1  1 Year Warranty Provided By the Manufacturer f...   \n",
       "2  1 Year Manufacturer Warranty for Device and 6 ...   \n",
       "3  1 Year Warranty Provided By the Manufacturer f...   \n",
       "4  1 Year Warranty Provided By the Manufacturer f...   \n",
       "\n",
       "                                            ImageURL  \n",
       "0  https://rukminim2.flixcart.com/image/312/312/x...  \n",
       "1  https://rukminim2.flixcart.com/image/312/312/x...  \n",
       "2  https://rukminim2.flixcart.com/image/312/312/x...  \n",
       "3  https://rukminim2.flixcart.com/image/312/312/x...  \n",
       "4  https://rukminim2.flixcart.com/image/312/312/x...  "
      ]
     },
     "execution_count": 28,
     "metadata": {},
     "output_type": "execute_result"
    }
   ],
   "source": [
    "print(df.shape)\n",
    "df"
   ]
  },
  {
   "cell_type": "code",
   "execution_count": null,
   "id": "d3193d86",
   "metadata": {},
   "outputs": [],
   "source": []
  }
 ],
 "metadata": {
  "kernelspec": {
   "display_name": "venv",
   "language": "python",
   "name": "venv"
  },
  "language_info": {
   "codemirror_mode": {
    "name": "ipython",
    "version": 3
   },
   "file_extension": ".py",
   "mimetype": "text/x-python",
   "name": "python",
   "nbconvert_exporter": "python",
   "pygments_lexer": "ipython3",
   "version": "3.11.3"
  }
 },
 "nbformat": 4,
 "nbformat_minor": 5
}
